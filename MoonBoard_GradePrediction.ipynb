{
 "cells": [
  {
   "cell_type": "code",
   "execution_count": 1,
   "metadata": {},
   "outputs": [],
   "source": [
    "from sqlalchemy import create_engine\n",
    "from sqlalchemy_utils import database_exists, create_database\n",
    "import psycopg2\n",
    "import pandas as pd"
   ]
  },
  {
   "cell_type": "code",
   "execution_count": 153,
   "metadata": {},
   "outputs": [],
   "source": [
    "import numpy as np\n",
    "import matplotlib.pyplot as plt\n",
    "import pickle"
   ]
  },
  {
   "cell_type": "code",
   "execution_count": 152,
   "metadata": {},
   "outputs": [],
   "source": [
    "# Define a database name (we're using a dataset on births, so we'll call it birth_db)\n",
    "# Set your postgres username/password, and connection specifics\n",
    "#username = 'usernama'\n",
    "#password = ''pwd     # change this\n",
    "#host     = 'localhost'\n",
    "#port     = '5432'            # default port that postgres listens on\n",
    "#db_name  = 'MB_db'"
   ]
  },
  {
   "cell_type": "code",
   "execution_count": 4,
   "metadata": {},
   "outputs": [],
   "source": [
    "## 'engine' is a connection to a database\n",
    "## Here, we're using postgres, but sqlalchemy can connect to other things too.\n",
    "#engine = create_engine( 'postgresql://{}:{}@{}:{}/{}'.format(username, password, host, port, db_name) )\n",
    "#print(engine.url)"
   ]
  },
  {
   "cell_type": "markdown",
   "metadata": {},
   "source": [
    "Before running the commands below, initiate SQL server from a terminal by:<br>\n",
    "sudo service postgresql start<br>\n",
    "sudo service postgresql status<br>\n",
    "(sudo passwd postgres) - set a password for postgres: one-time thing<br>\n",
    "su postgres<br>"
   ]
  },
  {
   "cell_type": "code",
   "execution_count": 5,
   "metadata": {},
   "outputs": [],
   "source": [
    "# for now not using this, as \n",
    "#if not database_exists(engine.url):\n",
    "#    create_database(engine.url)\n",
    "#print(database_exists(engine.url))"
   ]
  },
  {
   "cell_type": "code",
   "execution_count": 6,
   "metadata": {},
   "outputs": [],
   "source": [
    "import json"
   ]
  },
  {
   "cell_type": "code",
   "execution_count": 7,
   "metadata": {},
   "outputs": [],
   "source": [
    "data = []\n",
    "# MB Masters 2017 run using 11k data\n",
    "#for line in open('problems.txt', 'r'):\n",
    "#MB 2016 run using 19k data\n",
    "for line in open('problems_2016.txt', 'r'):\n",
    "    data.append(json.loads(line))\n",
    "# This creates a list of json-problems: to load this with sql, cast it to dataframe"
   ]
  },
  {
   "cell_type": "code",
   "execution_count": 8,
   "metadata": {},
   "outputs": [
    {
     "name": "stdout",
     "output_type": "stream",
     "text": [
      "{'Method': 'Feet follow hands', 'Name': 'COUCH PROBLEM', 'Grade': '7A+', 'UserGrade': None, 'MoonBoardConfiguration': None, 'MoonBoardConfigurationId': 0, 'Setter': {'Id': '90FEA433-70AA-41AB-B93A-B3F30037E218', 'Nickname': 'marcel aarden', 'Firstname': 'marcel', 'Lastname': 'aarden', 'City': 'victoria', 'Country': 'CANADA', 'ProfileImageUrl': '/Content/Account/Images/default-profile.png?636728751296147425', 'CanShareData': True}, 'FirstAscender': False, 'Rating': 0, 'UserRating': 0, 'Repeats': 0, 'Attempts': 0, 'Holdsetup': {'Id': 1, 'Description': 'MoonBoard 2016', 'Setby': None, 'DateInserted': None, 'DateUpdated': None, 'DateDeleted': None, 'IsLocked': False, 'Holdsets': None, 'MoonBoardConfigurations': None, 'HoldLayoutId': 0, 'AllowClimbMethods': False}, 'IsBenchmark': False, 'IsAssessmentProblem': False, 'ProblemType': None, 'Moves': [{'Id': 1790343, 'Description': 'K5', 'IsStart': True, 'IsEnd': False}, {'Id': 1790344, 'Description': 'K8', 'IsStart': False, 'IsEnd': False}, {'Id': 1790345, 'Description': 'H10', 'IsStart': False, 'IsEnd': False}, {'Id': 1790346, 'Description': 'B11', 'IsStart': False, 'IsEnd': False}, {'Id': 1790347, 'Description': 'B15', 'IsStart': False, 'IsEnd': False}, {'Id': 1790348, 'Description': 'A15', 'IsStart': False, 'IsEnd': False}, {'Id': 1790349, 'Description': 'A18', 'IsStart': False, 'IsEnd': True}], 'Holdsets': None, 'Locations': [{'Id': 0, 'Holdset': None, 'Description': 'A15', 'X': 95, 'Y': 238, 'Color': '0x0000FF', 'Rotation': 0, 'Type': 2, 'HoldNumber': None, 'Direction': 0, 'DirectionString': 'N'}, {'Id': 0, 'Holdset': None, 'Description': 'A18', 'X': 95, 'Y': 88, 'Color': '0xFF0000', 'Rotation': 0, 'Type': 3, 'HoldNumber': None, 'Direction': 0, 'DirectionString': 'N'}, {'Id': 0, 'Holdset': None, 'Description': 'B15', 'X': 145, 'Y': 236, 'Color': '0x0000FF', 'Rotation': 0, 'Type': 2, 'HoldNumber': None, 'Direction': 0, 'DirectionString': 'N'}, {'Id': 0, 'Holdset': None, 'Description': 'B11', 'X': 145, 'Y': 436, 'Color': '0x0000FF', 'Rotation': 0, 'Type': 2, 'HoldNumber': None, 'Direction': 0, 'DirectionString': 'N'}, {'Id': 0, 'Holdset': None, 'Description': 'H10', 'X': 445, 'Y': 486, 'Color': '0x0000FF', 'Rotation': 0, 'Type': 2, 'HoldNumber': None, 'Direction': 0, 'DirectionString': 'N'}, {'Id': 0, 'Holdset': None, 'Description': 'K5', 'X': 595, 'Y': 738, 'Color': '0x00FF00', 'Rotation': 0, 'Type': 1, 'HoldNumber': None, 'Direction': 0, 'DirectionString': 'N'}, {'Id': 0, 'Holdset': None, 'Description': 'K8', 'X': 595, 'Y': 588, 'Color': '0x0000FF', 'Rotation': 0, 'Type': 2, 'HoldNumber': None, 'Direction': 0, 'DirectionString': 'N'}], 'RepeatText': 'Be the first to repeat this problem', 'NumberOfTries': None, 'NameForUrl': 'couch-problem', 'Id': 326388, 'ApiId': 0, 'DateInserted': '/Date(1537240230503)/', 'DateUpdated': None, 'DateDeleted': None, 'DateTimeString': '18 Sep 2018 04:10'}\n"
     ]
    }
   ],
   "source": [
    "# sanity check: Is the data well read?\n",
    "print(data[1])"
   ]
  },
  {
   "cell_type": "code",
   "execution_count": 9,
   "metadata": {},
   "outputs": [],
   "source": [
    "# read a database from CSV and load it into a pandas dataframe : \n",
    "# birdh_data = pd.read_csv('births2012_downsampled.csv', index_col=0)"
   ]
  },
  {
   "cell_type": "code",
   "execution_count": 10,
   "metadata": {},
   "outputs": [],
   "source": [
    "# reading data in python : good for performance comparison, but we don't need it\n",
    "## insert data into database from Python (proof of concept - this won't be useful for big data, of course)\n",
    "problems_raw = pd.DataFrame(data)\n",
    "# MB2017\n",
    "# problems = problems_raw.loc[problems_raw['Grade']!='6A+']\n",
    "# MB2016\n",
    "problems = problems_raw.loc[problems_raw['Grade']!='6B+']\n",
    "problems = problems.reset_index()\n",
    "#problems.to_sql('MB_prob_table', engine, if_exists='replace')"
   ]
  },
  {
   "cell_type": "code",
   "execution_count": 11,
   "metadata": {},
   "outputs": [],
   "source": [
    "# Let's implement SQL part later, and focus on DataFrame for now. The data would not be that big in the end!\n",
    "#con = None\n",
    "#con = psycopg2.connect(database = db_name, user = username, password=password)\n",
    "\n",
    "# created a symbolic link in /tmp/ to /var/run/postgresql/\n",
    "# password supplied to psycopg2\n",
    "\n",
    "# query:\n",
    "#sql_query = \"\"\"\n",
    "#SELECT * FROM birth_data_table WHERE delivery_method='Cesarean';\n",
    "#\"\"\"\n",
    "#birth_data_from_sql = pd.read_sql_query(sql_query,con)\n",
    "#birth_data_from_sql.head()"
   ]
  },
  {
   "cell_type": "code",
   "execution_count": 12,
   "metadata": {},
   "outputs": [],
   "source": [
    "import seaborn as sns"
   ]
  },
  {
   "cell_type": "code",
   "execution_count": 13,
   "metadata": {},
   "outputs": [
    {
     "name": "stdout",
     "output_type": "stream",
     "text": [
      "17\n",
      "[2, 3, 3, 4, 4, 5, 5, 6, 7, 8, 8, 9, 10, 11, 12, 13, 14]\n"
     ]
    }
   ],
   "source": [
    "font = ['5+','6A','6A+','6B','6B+','6C','6C+','7A','7A+','7B','7B+','7C','7C+','8A','8A+','8B','8B+']\n",
    "vgrd = [2,3,3,4,4,5,5,6,7,8,8,9,10,11,12,13,14]\n",
    "print(len(font))\n",
    "print((vgrd))"
   ]
  },
  {
   "cell_type": "code",
   "execution_count": 14,
   "metadata": {},
   "outputs": [],
   "source": [
    "grade_conversion = dict(zip(font,vgrd))"
   ]
  },
  {
   "cell_type": "code",
   "execution_count": 15,
   "metadata": {},
   "outputs": [
    {
     "data": {
      "text/plain": [
       "<matplotlib.axes._subplots.AxesSubplot at 0x7fe1e5c19828>"
      ]
     },
     "execution_count": 15,
     "metadata": {},
     "output_type": "execute_result"
    },
    {
     "data": {
      "image/png": "[encoded data removed]",
      "text/plain": [
       "<Figure size 432x288 with 1 Axes>"
      ]
     },
     "metadata": {
      "needs_background": "light"
     },
     "output_type": "display_data"
    }
   ],
   "source": [
    "%matplotlib inline\n",
    "sns.countplot(x=\"Grade\", data=problems, order=['5+','6A','6A+','6B','6B+','6C','6C+','7A','7A+','7B','7B+','7C','7C+','8A','8A+','8B','8B+'])\n",
    "# model: two lognormal with 6A+ being faulty data collection?\n",
    "# since the grades are ordinal, may I model it as lognormal...?\n",
    "# Why a dip at 7B and not so obvious excess at 6B+? Is there any reason to believe that\n",
    "# especially 7B route setters are more likely to estimate the grade wrong?"
   ]
  },
  {
   "cell_type": "code",
   "execution_count": 16,
   "metadata": {},
   "outputs": [
    {
     "data": {
      "text/plain": [
       "<matplotlib.axes._subplots.AxesSubplot at 0x7fe1e58d6ef0>"
      ]
     },
     "execution_count": 16,
     "metadata": {},
     "output_type": "execute_result"
    },
    {
     "data": {
      "image/png": "[encoded data removed]",
      "text/plain": [
       "<Figure size 432x288 with 1 Axes>"
      ]
     },
     "metadata": {
      "needs_background": "light"
     },
     "output_type": "display_data"
    }
   ],
   "source": [
    "sns.countplot(x=\"UserGrade\", data=problems, order=['5+','6A','6B','6B+','6C','6C+','7A','7A+','7B','7B+','7C','7C+','8A','8A+','8B','8B+'])\n",
    "# can this be accounted as a \"real\" distribution of grades \n",
    "# (since this means other users cared enough to grade the ther's problem)? \n",
    "# It does look log-normal! :P\n",
    "# fit log-normal and use the param as the \"ideal\" grade distribution?"
   ]
  },
  {
   "cell_type": "code",
   "execution_count": 17,
   "metadata": {},
   "outputs": [
    {
     "data": {
      "text/plain": [
       "<matplotlib.axes._subplots.AxesSubplot at 0x7fe1e5869be0>"
      ]
     },
     "execution_count": 17,
     "metadata": {},
     "output_type": "execute_result"
    },
    {
     "data": {
      "image/png": "[encoded data removed]",
      "text/plain": [
       "<Figure size 432x288 with 1 Axes>"
      ]
     },
     "metadata": {
      "needs_background": "light"
     },
     "output_type": "display_data"
    }
   ],
   "source": [
    "sns.countplot(x=\"Repeats\", data=problems)"
   ]
  },
  {
   "cell_type": "code",
   "execution_count": 18,
   "metadata": {},
   "outputs": [
    {
     "data": {
      "text/plain": [
       "<matplotlib.axes._subplots.AxesSubplot at 0x7fe1e56df240>"
      ]
     },
     "execution_count": 18,
     "metadata": {},
     "output_type": "execute_result"
    },
    {
     "data": {
      "image/png": "[encoded data removed]",
      "text/plain": [
       "<Figure size 432x288 with 1 Axes>"
      ]
     },
     "metadata": {
      "needs_background": "light"
     },
     "output_type": "display_data"
    }
   ],
   "source": [
    "sns.countplot(x=\"Method\", data=problems)"
   ]
  },
  {
   "cell_type": "code",
   "execution_count": 19,
   "metadata": {},
   "outputs": [
    {
     "data": {
      "text/plain": [
       "<matplotlib.axes._subplots.AxesSubplot at 0x7fe1e512bef0>"
      ]
     },
     "execution_count": 19,
     "metadata": {},
     "output_type": "execute_result"
    },
    {
     "data": {
      "image/png": "[encoded data removed]",
      "text/plain": [
       "<Figure size 432x288 with 1 Axes>"
      ]
     },
     "metadata": {
      "needs_background": "light"
     },
     "output_type": "display_data"
    }
   ],
   "source": [
    "sns.countplot(x=\"UserRating\", data=problems)"
   ]
  },
  {
   "cell_type": "code",
   "execution_count": 20,
   "metadata": {},
   "outputs": [],
   "source": [
    "# additional feature engineering : distances between holds?\n",
    "def alphabet_to_num(char):\n",
    "    return ord(char.lower()) - 96\n",
    "def split_xy(string):\n",
    "    import re\n",
    "    r = re.compile(\"([a-zA-Z]+)([0-9]+)\")\n",
    "    #strings = ['foofo21', 'bar432', 'foobar12345']\n",
    "    return list(r.match(string).groups())\n",
    "def distance(hold1, hold2):\n",
    "    coord1 = split_xy(hold1)\n",
    "    coord1 = np.array([int(alphabet_to_num(coord1[0])),int(coord1[1])])\n",
    "    coord2 = split_xy(hold2)\n",
    "    coord2 = np.array([int(alphabet_to_num(coord2[0])),int(coord2[1])])\n",
    "    return np.linalg.norm(coord1-coord2)"
   ]
  },
  {
   "cell_type": "code",
   "execution_count": 81,
   "metadata": {},
   "outputs": [
    {
     "data": {
      "text/plain": [
       "'B'"
      ]
     },
     "execution_count": 81,
     "metadata": {},
     "output_type": "execute_result"
    }
   ],
   "source": [
    "#num_to_alphabet(2)"
   ]
  },
  {
   "cell_type": "code",
   "execution_count": 21,
   "metadata": {},
   "outputs": [],
   "source": [
    "length = [len((problems['Moves'][i])) for i in range(len(problems))]"
   ]
  },
  {
   "cell_type": "code",
   "execution_count": 22,
   "metadata": {},
   "outputs": [],
   "source": [
    "problems['Length'] = pd.Series(length)"
   ]
  },
  {
   "cell_type": "code",
   "execution_count": 23,
   "metadata": {},
   "outputs": [
    {
     "data": {
      "text/plain": [
       "<matplotlib.axes._subplots.AxesSubplot at 0x7fe1e50b1cf8>"
      ]
     },
     "execution_count": 23,
     "metadata": {},
     "output_type": "execute_result"
    },
    {
     "data": {
      "image/png": "[encoded data removed]",
      "text/plain": [
       "<Figure size 432x288 with 1 Axes>"
      ]
     },
     "metadata": {
      "needs_background": "light"
     },
     "output_type": "display_data"
    }
   ],
   "source": [
    "sns.countplot(x='Length', data=problems)"
   ]
  },
  {
   "cell_type": "code",
   "execution_count": 24,
   "metadata": {},
   "outputs": [
    {
     "name": "stderr",
     "output_type": "stream",
     "text": [
      "/home/ijee/anaconda3/envs/insight/lib/python3.6/site-packages/seaborn/axisgrid.py:230: UserWarning: The `size` paramter has been renamed to `height`; please update your code.\n",
      "  warnings.warn(msg, UserWarning)\n"
     ]
    },
    {
     "data": {
      "image/png": "[encoded data removed]",
      "text/plain": [
       "<Figure size 261.44x2376 with 15 Axes>"
      ]
     },
     "metadata": {
      "needs_background": "light"
     },
     "output_type": "display_data"
    }
   ],
   "source": [
    "grid = sns.FacetGrid(data = problems, col='Method', row='Length', size=2.2, aspect=1.6)\n",
    "grid.map(sns.countplot, 'Grade', order=['5+','6A','6B','6B+','6C','6C+','7A','7A+','7B','7B+','7C','7C+','8A','8A+','8B','8B+'])\n",
    "grid.add_legend();"
   ]
  },
  {
   "cell_type": "code",
   "execution_count": 25,
   "metadata": {},
   "outputs": [
    {
     "name": "stdout",
     "output_type": "stream",
     "text": [
      "{'Id': 1790368, 'Description': 'B3', 'IsStart': True, 'IsEnd': False}\n",
      "B3\n"
     ]
    }
   ],
   "source": [
    "print(problems['Moves'][0][0])\n",
    "print(problems['Moves'][0][0]['Description'])\n",
    "holds = []\n",
    "for i in range(len(problems)):\n",
    "    holds.append([problems['Moves'][i][j]['Description'] for j in range(problems['Length'][i])])"
   ]
  },
  {
   "cell_type": "code",
   "execution_count": 26,
   "metadata": {},
   "outputs": [
    {
     "name": "stdout",
     "output_type": "stream",
     "text": [
      "['B3', 'A5', 'G8', 'E7', 'C10', 'D12', 'D15', 'G15', 'G17', 'G18']\n"
     ]
    }
   ],
   "source": [
    "print(holds[0])"
   ]
  },
  {
   "cell_type": "code",
   "execution_count": 27,
   "metadata": {},
   "outputs": [],
   "source": [
    "def xlims(list):\n",
    "    # return (leftmost, rightmost) x coordinate of a given problem\n",
    "    n = len(list)\n",
    "    coords = [alphabet_to_num(split_xy(list[i])[0]) for i in range(n)]\n",
    "#    xcoords = [coords[i][0] for i in range(n)]\n",
    "#    xcoords = [alphabet_to_num(coords[i]) for i in range(n)]\n",
    "    return [min(coords),max(coords)]"
   ]
  },
  {
   "cell_type": "code",
   "execution_count": 28,
   "metadata": {},
   "outputs": [
    {
     "data": {
      "text/plain": [
       "[1, 7]"
      ]
     },
     "execution_count": 28,
     "metadata": {},
     "output_type": "execute_result"
    }
   ],
   "source": [
    "xlims(holds[0])"
   ]
  },
  {
   "cell_type": "code",
   "execution_count": 29,
   "metadata": {},
   "outputs": [
    {
     "data": {
      "text/plain": [
       "0    [B3, A5, G8, E7, C10, D12, D15, G15, G17, G18]\n",
       "1                 [K5, K8, H10, B11, B15, A15, A18]\n",
       "2                  [F5, J5, G9, E12, J13, H16, I18]\n",
       "3         [D3, C5, E8, A9, E12, D11, H14, E16, E18]\n",
       "4     [G2, I4, F7, I8, I9, E10, F13, H14, G17, I18]\n",
       "dtype: object"
      ]
     },
     "execution_count": 29,
     "metadata": {},
     "output_type": "execute_result"
    }
   ],
   "source": [
    "df_holds = pd.Series(holds)\n",
    "#df_holds.head(5)"
   ]
  },
  {
   "cell_type": "code",
   "execution_count": 30,
   "metadata": {},
   "outputs": [
    {
     "data": {
      "text/html": [
       "<div>\n",
       "<style scoped>\n",
       "    .dataframe tbody tr th:only-of-type {\n",
       "        vertical-align: middle;\n",
       "    }\n",
       "\n",
       "    .dataframe tbody tr th {\n",
       "        vertical-align: top;\n",
       "    }\n",
       "\n",
       "    .dataframe thead th {\n",
       "        text-align: right;\n",
       "    }\n",
       "</style>\n",
       "<table border=\"1\" class=\"dataframe\">\n",
       "  <thead>\n",
       "    <tr style=\"text-align: right;\">\n",
       "      <th></th>\n",
       "      <th>l</th>\n",
       "      <th>r</th>\n",
       "      <th>width</th>\n",
       "    </tr>\n",
       "  </thead>\n",
       "  <tbody>\n",
       "    <tr>\n",
       "      <th>0</th>\n",
       "      <td>1</td>\n",
       "      <td>7</td>\n",
       "      <td>6</td>\n",
       "    </tr>\n",
       "    <tr>\n",
       "      <th>1</th>\n",
       "      <td>1</td>\n",
       "      <td>11</td>\n",
       "      <td>10</td>\n",
       "    </tr>\n",
       "    <tr>\n",
       "      <th>2</th>\n",
       "      <td>5</td>\n",
       "      <td>10</td>\n",
       "      <td>5</td>\n",
       "    </tr>\n",
       "    <tr>\n",
       "      <th>3</th>\n",
       "      <td>1</td>\n",
       "      <td>8</td>\n",
       "      <td>7</td>\n",
       "    </tr>\n",
       "    <tr>\n",
       "      <th>4</th>\n",
       "      <td>5</td>\n",
       "      <td>9</td>\n",
       "      <td>4</td>\n",
       "    </tr>\n",
       "  </tbody>\n",
       "</table>\n",
       "</div>"
      ],
      "text/plain": [
       "   l   r  width\n",
       "0  1   7      6\n",
       "1  1  11     10\n",
       "2  5  10      5\n",
       "3  1   8      7\n",
       "4  5   9      4"
      ]
     },
     "execution_count": 30,
     "metadata": {},
     "output_type": "execute_result"
    }
   ],
   "source": [
    "a = df_holds.apply(xlims)\n",
    "b = pd.DataFrame(a,columns=['lr'])\n",
    "b[['l','r']] = pd.DataFrame(b.lr.values.tolist(), index= b.index)\n",
    "b = b.drop(['lr'],axis=1)\n",
    "b['width'] = b['r']-b['l']\n",
    "#b.head(5)"
   ]
  },
  {
   "cell_type": "code",
   "execution_count": 31,
   "metadata": {},
   "outputs": [],
   "source": [
    "b['width'] = b['r']-b['l']"
   ]
  },
  {
   "cell_type": "code",
   "execution_count": 90,
   "metadata": {},
   "outputs": [],
   "source": [
    "# generate classes for mlb!\n",
    "mlb_class = []\n",
    "for i in range(11):\n",
    "    for j in range(18):\n",
    "        mlb_class.append(chr(i+65)+'%d'%(j+1))"
   ]
  },
  {
   "cell_type": "code",
   "execution_count": 91,
   "metadata": {},
   "outputs": [],
   "source": [
    "from sklearn.preprocessing import MultiLabelBinarizer\n",
    "\n",
    "mlb = MultiLabelBinarizer(classes=mlb_class)\n",
    "df_holds_enc = pd.DataFrame(mlb.fit_transform(df_holds), columns=mlb_class)\n",
    "#df = df.join(pd.DataFrame(mlb.fit_transform(df.pop('Col3')),\n",
    "#                          columns=mlb.classes_,\n",
    "#                          index=df.index))"
   ]
  },
  {
   "cell_type": "code",
   "execution_count": 92,
   "metadata": {},
   "outputs": [
    {
     "data": {
      "text/html": [
       "<div>\n",
       "<style scoped>\n",
       "    .dataframe tbody tr th:only-of-type {\n",
       "        vertical-align: middle;\n",
       "    }\n",
       "\n",
       "    .dataframe tbody tr th {\n",
       "        vertical-align: top;\n",
       "    }\n",
       "\n",
       "    .dataframe thead th {\n",
       "        text-align: right;\n",
       "    }\n",
       "</style>\n",
       "<table border=\"1\" class=\"dataframe\">\n",
       "  <thead>\n",
       "    <tr style=\"text-align: right;\">\n",
       "      <th></th>\n",
       "      <th>A1</th>\n",
       "      <th>A2</th>\n",
       "      <th>A3</th>\n",
       "      <th>A4</th>\n",
       "      <th>A5</th>\n",
       "      <th>A6</th>\n",
       "      <th>A7</th>\n",
       "      <th>A8</th>\n",
       "      <th>A9</th>\n",
       "      <th>A10</th>\n",
       "      <th>...</th>\n",
       "      <th>K13</th>\n",
       "      <th>K14</th>\n",
       "      <th>K15</th>\n",
       "      <th>K16</th>\n",
       "      <th>K17</th>\n",
       "      <th>K18</th>\n",
       "      <th>Length</th>\n",
       "      <th>l</th>\n",
       "      <th>r</th>\n",
       "      <th>width</th>\n",
       "    </tr>\n",
       "  </thead>\n",
       "  <tbody>\n",
       "    <tr>\n",
       "      <th>13355</th>\n",
       "      <td>0</td>\n",
       "      <td>0</td>\n",
       "      <td>0</td>\n",
       "      <td>0</td>\n",
       "      <td>0</td>\n",
       "      <td>0</td>\n",
       "      <td>0</td>\n",
       "      <td>0</td>\n",
       "      <td>0</td>\n",
       "      <td>0</td>\n",
       "      <td>...</td>\n",
       "      <td>0</td>\n",
       "      <td>0</td>\n",
       "      <td>0</td>\n",
       "      <td>0</td>\n",
       "      <td>0</td>\n",
       "      <td>0</td>\n",
       "      <td>6</td>\n",
       "      <td>4</td>\n",
       "      <td>10</td>\n",
       "      <td>6</td>\n",
       "    </tr>\n",
       "    <tr>\n",
       "      <th>13356</th>\n",
       "      <td>0</td>\n",
       "      <td>0</td>\n",
       "      <td>0</td>\n",
       "      <td>0</td>\n",
       "      <td>0</td>\n",
       "      <td>0</td>\n",
       "      <td>0</td>\n",
       "      <td>0</td>\n",
       "      <td>0</td>\n",
       "      <td>0</td>\n",
       "      <td>...</td>\n",
       "      <td>0</td>\n",
       "      <td>0</td>\n",
       "      <td>0</td>\n",
       "      <td>0</td>\n",
       "      <td>0</td>\n",
       "      <td>0</td>\n",
       "      <td>7</td>\n",
       "      <td>3</td>\n",
       "      <td>6</td>\n",
       "      <td>3</td>\n",
       "    </tr>\n",
       "    <tr>\n",
       "      <th>13357</th>\n",
       "      <td>0</td>\n",
       "      <td>0</td>\n",
       "      <td>0</td>\n",
       "      <td>0</td>\n",
       "      <td>0</td>\n",
       "      <td>0</td>\n",
       "      <td>0</td>\n",
       "      <td>0</td>\n",
       "      <td>0</td>\n",
       "      <td>0</td>\n",
       "      <td>...</td>\n",
       "      <td>0</td>\n",
       "      <td>0</td>\n",
       "      <td>0</td>\n",
       "      <td>0</td>\n",
       "      <td>0</td>\n",
       "      <td>0</td>\n",
       "      <td>7</td>\n",
       "      <td>5</td>\n",
       "      <td>11</td>\n",
       "      <td>6</td>\n",
       "    </tr>\n",
       "    <tr>\n",
       "      <th>13358</th>\n",
       "      <td>0</td>\n",
       "      <td>0</td>\n",
       "      <td>0</td>\n",
       "      <td>0</td>\n",
       "      <td>1</td>\n",
       "      <td>0</td>\n",
       "      <td>0</td>\n",
       "      <td>0</td>\n",
       "      <td>0</td>\n",
       "      <td>0</td>\n",
       "      <td>...</td>\n",
       "      <td>0</td>\n",
       "      <td>0</td>\n",
       "      <td>0</td>\n",
       "      <td>0</td>\n",
       "      <td>0</td>\n",
       "      <td>0</td>\n",
       "      <td>6</td>\n",
       "      <td>1</td>\n",
       "      <td>6</td>\n",
       "      <td>5</td>\n",
       "    </tr>\n",
       "    <tr>\n",
       "      <th>13359</th>\n",
       "      <td>0</td>\n",
       "      <td>0</td>\n",
       "      <td>0</td>\n",
       "      <td>0</td>\n",
       "      <td>0</td>\n",
       "      <td>0</td>\n",
       "      <td>0</td>\n",
       "      <td>0</td>\n",
       "      <td>0</td>\n",
       "      <td>0</td>\n",
       "      <td>...</td>\n",
       "      <td>0</td>\n",
       "      <td>0</td>\n",
       "      <td>0</td>\n",
       "      <td>0</td>\n",
       "      <td>0</td>\n",
       "      <td>0</td>\n",
       "      <td>8</td>\n",
       "      <td>2</td>\n",
       "      <td>10</td>\n",
       "      <td>8</td>\n",
       "    </tr>\n",
       "  </tbody>\n",
       "</table>\n",
       "<p>5 rows × 202 columns</p>\n",
       "</div>"
      ],
      "text/plain": [
       "       A1  A2  A3  A4  A5  A6  A7  A8  A9  A10  ...    K13  K14  K15  K16  \\\n",
       "13355   0   0   0   0   0   0   0   0   0    0  ...      0    0    0    0   \n",
       "13356   0   0   0   0   0   0   0   0   0    0  ...      0    0    0    0   \n",
       "13357   0   0   0   0   0   0   0   0   0    0  ...      0    0    0    0   \n",
       "13358   0   0   0   0   1   0   0   0   0    0  ...      0    0    0    0   \n",
       "13359   0   0   0   0   0   0   0   0   0    0  ...      0    0    0    0   \n",
       "\n",
       "       K17  K18  Length  l   r  width  \n",
       "13355    0    0       6  4  10      6  \n",
       "13356    0    0       7  3   6      3  \n",
       "13357    0    0       7  5  11      6  \n",
       "13358    0    0       6  1   6      5  \n",
       "13359    0    0       8  2  10      8  \n",
       "\n",
       "[5 rows x 202 columns]"
      ]
     },
     "execution_count": 92,
     "metadata": {},
     "output_type": "execute_result"
    }
   ],
   "source": [
    "# feature vector: hold positions multilabel binary encoded\n",
    "df_holds_enc = df_holds_enc.join(problems['Length'])\n",
    "df_holds_enc = df_holds_enc.join(b)\n",
    "\n",
    "df_holds_enc.tail(5)"
   ]
  },
  {
   "cell_type": "code",
   "execution_count": 93,
   "metadata": {},
   "outputs": [],
   "source": [
    "# add width of problems (max(x)-min(x)) to the features\n",
    "# leftmost hold"
   ]
  },
  {
   "cell_type": "code",
   "execution_count": 94,
   "metadata": {},
   "outputs": [],
   "source": [
    "labels = problems['Grade']"
   ]
  },
  {
   "cell_type": "code",
   "execution_count": 95,
   "metadata": {},
   "outputs": [],
   "source": [
    "v_labels = problems.replace({'Grade': grade_conversion})['Grade']"
   ]
  },
  {
   "cell_type": "code",
   "execution_count": 179,
   "metadata": {},
   "outputs": [
    {
     "data": {
      "text/plain": [
       "Text(0,0.5,'')"
      ]
     },
     "execution_count": 179,
     "metadata": {},
     "output_type": "execute_result"
    },
    {
     "data": {
      "image/png": "[encoded data removed]",
      "text/plain": [
       "<Figure size 432x288 with 1 Axes>"
      ]
     },
     "metadata": {
      "needs_background": "light"
     },
     "output_type": "display_data"
    }
   ],
   "source": [
    "plt.hist(v_labels,bins= range(min(v_labels),max(v_labels)+1),density=True)\n",
    "plt.title('Train label distribution')\n",
    "plt.xlabel('V grade')\n",
    "# IF the classifier classifies everything to 5, the accuracy will be 35%"
   ]
  },
  {
   "cell_type": "code",
   "execution_count": 97,
   "metadata": {},
   "outputs": [
    {
     "name": "stdout",
     "output_type": "stream",
     "text": [
      "0     7A\n",
      "1    7A+\n",
      "2    6C+\n",
      "3    6C+\n",
      "4    6C+\n",
      "Name: Grade, dtype: object\n",
      "0    6\n",
      "1    7\n",
      "2    5\n",
      "3    5\n",
      "4    5\n",
      "Name: Grade, dtype: int64\n",
      "5 14\n"
     ]
    }
   ],
   "source": [
    "print(labels.head(5))\n",
    "print(v_labels.head(5))\n",
    "print(min(v_labels),max(v_labels))"
   ]
  },
  {
   "cell_type": "code",
   "execution_count": 98,
   "metadata": {},
   "outputs": [],
   "source": [
    "# Using Skicit-learn to split data into training and testing sets\n",
    "from sklearn.model_selection import train_test_split\n",
    "# Split the data into training and testing sets\n",
    "train_features, test_features, train_labels, test_labels = train_test_split(df_holds_enc, v_labels, test_size = 0.25, random_state = 42)"
   ]
  },
  {
   "cell_type": "code",
   "execution_count": 99,
   "metadata": {},
   "outputs": [
    {
     "name": "stdout",
     "output_type": "stream",
     "text": [
      "Training Features Shape: (10020, 202)\n",
      "Training Labels Shape: (10020,)\n",
      "Testing Features Shape: (3340, 202)\n",
      "Testing Labels Shape: (3340,)\n"
     ]
    }
   ],
   "source": [
    "print('Training Features Shape:', train_features.shape)\n",
    "print('Training Labels Shape:', train_labels.shape)\n",
    "print('Testing Features Shape:', test_features.shape)\n",
    "print('Testing Labels Shape:', test_labels.shape)"
   ]
  },
  {
   "cell_type": "code",
   "execution_count": 100,
   "metadata": {},
   "outputs": [
    {
     "name": "stdout",
     "output_type": "stream",
     "text": [
      "       A1  A2  A3  A4  A5  A6  A7  A8  A9  A10  ...    K13  K14  K15  K16  \\\n",
      "7757    0   0   0   0   0   0   0   0   0    0  ...      0    0    0    0   \n",
      "1284    0   0   0   0   0   0   0   0   0    0  ...      0    0    0    0   \n",
      "4604    0   0   0   0   0   0   0   0   0    0  ...      0    0    0    0   \n",
      "11228   0   0   0   0   0   0   0   0   0    0  ...      0    0    0    0   \n",
      "6388    0   0   0   0   0   0   0   0   0    0  ...      0    0    0    0   \n",
      "\n",
      "       K17  K18  Length  l   r  width  \n",
      "7757     0    0      10  5  11      6  \n",
      "1284     0    0       6  4   8      4  \n",
      "4604     0    0       6  7  11      4  \n",
      "11228    0    0       6  6  11      5  \n",
      "6388     0    0       6  3   9      6  \n",
      "\n",
      "[5 rows x 202 columns]\n"
     ]
    }
   ],
   "source": [
    "print(train_features.head(5))"
   ]
  },
  {
   "cell_type": "code",
   "execution_count": 101,
   "metadata": {},
   "outputs": [],
   "source": [
    "from sklearn.metrics import precision_score"
   ]
  },
  {
   "cell_type": "code",
   "execution_count": 102,
   "metadata": {},
   "outputs": [
    {
     "data": {
      "text/plain": [
       "RandomForestClassifier(bootstrap=True, class_weight=None, criterion='gini',\n",
       "            max_depth=None, max_features='auto', max_leaf_nodes=None,\n",
       "            min_impurity_decrease=0.0, min_impurity_split=None,\n",
       "            min_samples_leaf=1, min_samples_split=2,\n",
       "            min_weight_fraction_leaf=0.0, n_estimators=1000, n_jobs=1,\n",
       "            oob_score=False, random_state=42, verbose=0, warm_start=False)"
      ]
     },
     "execution_count": 102,
     "metadata": {},
     "output_type": "execute_result"
    }
   ],
   "source": [
    "# Import the model we are using\n",
    "from sklearn.ensemble import RandomForestClassifier\n",
    "# Instantiate model with 1000 decision trees\n",
    "rf = RandomForestClassifier(n_estimators = 1000, random_state = 42)\n",
    "# Train the model on training data\n",
    "rf.fit(train_features, train_labels)"
   ]
  },
  {
   "cell_type": "code",
   "execution_count": 165,
   "metadata": {},
   "outputs": [],
   "source": [
    "features_name = train_features.columns.values.tolist()"
   ]
  },
  {
   "cell_type": "code",
   "execution_count": 175,
   "metadata": {},
   "outputs": [
    {
     "name": "stdout",
     "output_type": "stream",
     "text": [
      "Feature ranking:\n",
      "1. feature 198 (0.052663)\n",
      "2. feature 201 (0.042181)\n",
      "3. feature 199 (0.032412)\n",
      "4. feature 200 (0.031688)\n",
      "5. feature 94 (0.014076)\n",
      "6. feature 109 (0.012917)\n",
      "7. feature 71 (0.011858)\n",
      "8. feature 125 (0.010983)\n",
      "9. feature 89 (0.010894)\n",
      "10. feature 79 (0.010623)\n",
      "11. feature 99 (0.010369)\n",
      "12. feature 161 (0.010032)\n",
      "13. feature 111 (0.009828)\n",
      "14. feature 135 (0.009819)\n",
      "15. feature 56 (0.009351)\n",
      "16. feature 104 (0.009313)\n",
      "17. feature 83 (0.009249)\n",
      "18. feature 130 (0.009233)\n",
      "19. feature 85 (0.009173)\n",
      "20. feature 86 (0.009151)\n",
      "21. feature 100 (0.008891)\n",
      "22. feature 166 (0.008626)\n",
      "23. feature 121 (0.008572)\n",
      "24. feature 102 (0.008497)\n",
      "25. feature 133 (0.008413)\n",
      "26. feature 77 (0.008392)\n",
      "27. feature 48 (0.008371)\n",
      "28. feature 136 (0.008371)\n",
      "29. feature 63 (0.008343)\n",
      "30. feature 20 (0.008248)\n",
      "31. feature 84 (0.008195)\n",
      "32. feature 40 (0.008194)\n",
      "33. feature 139 (0.008155)\n",
      "34. feature 116 (0.008113)\n",
      "35. feature 141 (0.007884)\n",
      "36. feature 157 (0.007828)\n",
      "37. feature 87 (0.007805)\n",
      "38. feature 147 (0.007802)\n",
      "39. feature 197 (0.007732)\n",
      "40. feature 148 (0.007718)\n",
      "41. feature 115 (0.007669)\n",
      "42. feature 184 (0.007565)\n",
      "43. feature 53 (0.007558)\n",
      "44. feature 68 (0.007519)\n",
      "45. feature 81 (0.007489)\n",
      "46. feature 134 (0.007489)\n",
      "47. feature 80 (0.007442)\n",
      "48. feature 143 (0.007403)\n",
      "49. feature 137 (0.007355)\n",
      "50. feature 103 (0.007241)\n",
      "51. feature 4 (0.007222)\n",
      "52. feature 120 (0.007185)\n",
      "53. feature 163 (0.007131)\n",
      "54. feature 101 (0.007104)\n",
      "55. feature 122 (0.007102)\n",
      "56. feature 42 (0.007010)\n",
      "57. feature 21 (0.006735)\n",
      "58. feature 17 (0.006695)\n",
      "59. feature 124 (0.006687)\n",
      "60. feature 58 (0.006684)\n",
      "61. feature 98 (0.006667)\n",
      "62. feature 45 (0.006665)\n",
      "63. feature 113 (0.006651)\n",
      "64. feature 59 (0.006585)\n",
      "65. feature 155 (0.006541)\n",
      "66. feature 169 (0.006521)\n",
      "67. feature 43 (0.006381)\n",
      "68. feature 50 (0.006341)\n",
      "69. feature 69 (0.006332)\n",
      "70. feature 78 (0.006317)\n",
      "71. feature 96 (0.006307)\n",
      "72. feature 118 (0.006112)\n",
      "73. feature 66 (0.006078)\n",
      "74. feature 64 (0.005889)\n",
      "75. feature 153 (0.005811)\n",
      "76. feature 82 (0.005741)\n",
      "77. feature 95 (0.005643)\n",
      "78. feature 152 (0.005494)\n",
      "79. feature 159 (0.005468)\n",
      "80. feature 171 (0.005364)\n",
      "81. feature 35 (0.005292)\n",
      "82. feature 114 (0.005273)\n",
      "83. feature 44 (0.005227)\n",
      "84. feature 47 (0.005212)\n",
      "85. feature 61 (0.005183)\n",
      "86. feature 149 (0.005181)\n",
      "87. feature 28 (0.005110)\n",
      "88. feature 117 (0.005062)\n",
      "89. feature 158 (0.005051)\n",
      "90. feature 33 (0.005018)\n",
      "91. feature 25 (0.004989)\n",
      "92. feature 97 (0.004967)\n",
      "93. feature 27 (0.004941)\n",
      "94. feature 65 (0.004922)\n",
      "95. feature 8 (0.004903)\n",
      "96. feature 138 (0.004886)\n",
      "97. feature 123 (0.004869)\n",
      "98. feature 156 (0.004804)\n",
      "99. feature 23 (0.004799)\n",
      "100. feature 49 (0.004789)\n",
      "101. feature 62 (0.004788)\n",
      "102. feature 26 (0.004697)\n",
      "103. feature 187 (0.004507)\n",
      "104. feature 67 (0.004370)\n",
      "105. feature 13 (0.004224)\n",
      "106. feature 105 (0.004138)\n",
      "107. feature 70 (0.004070)\n",
      "108. feature 151 (0.004064)\n",
      "109. feature 185 (0.003875)\n",
      "110. feature 173 (0.003806)\n",
      "111. feature 170 (0.003734)\n",
      "112. feature 177 (0.003681)\n",
      "113. feature 60 (0.003680)\n",
      "114. feature 190 (0.003674)\n",
      "115. feature 188 (0.003642)\n",
      "116. feature 175 (0.003593)\n",
      "117. feature 154 (0.003557)\n",
      "118. feature 186 (0.003547)\n",
      "119. feature 32 (0.003525)\n",
      "120. feature 119 (0.003505)\n",
      "121. feature 24 (0.003503)\n",
      "122. feature 174 (0.003497)\n",
      "123. feature 193 (0.003452)\n",
      "124. feature 132 (0.003440)\n",
      "125. feature 30 (0.003415)\n",
      "126. feature 140 (0.003348)\n",
      "127. feature 189 (0.003279)\n",
      "128. feature 46 (0.003188)\n",
      "129. feature 29 (0.003139)\n",
      "130. feature 168 (0.003076)\n",
      "131. feature 11 (0.002863)\n",
      "132. feature 150 (0.002770)\n",
      "133. feature 172 (0.002649)\n",
      "134. feature 9 (0.002529)\n",
      "135. feature 51 (0.002307)\n",
      "136. feature 41 (0.002306)\n",
      "137. feature 195 (0.002176)\n",
      "138. feature 12 (0.002129)\n",
      "139. feature 15 (0.002011)\n",
      "140. feature 191 (0.001999)\n",
      "141. feature 10 (0.001997)\n",
      "142. feature 167 (0.001989)\n",
      "143. feature 192 (0.001694)\n",
      "144. feature 14 (0.000915)\n",
      "145. feature 5 (0.000017)\n",
      "146. feature 1 (0.000000)\n",
      "147. feature 2 (0.000000)\n",
      "148. feature 3 (0.000000)\n",
      "149. feature 6 (0.000000)\n",
      "150. feature 7 (0.000000)\n",
      "151. feature 34 (0.000000)\n",
      "152. feature 39 (0.000000)\n",
      "153. feature 31 (0.000000)\n",
      "154. feature 38 (0.000000)\n",
      "155. feature 37 (0.000000)\n",
      "156. feature 16 (0.000000)\n",
      "157. feature 36 (0.000000)\n",
      "158. feature 18 (0.000000)\n",
      "159. feature 19 (0.000000)\n",
      "160. feature 22 (0.000000)\n",
      "161. feature 180 (0.000000)\n",
      "162. feature 90 (0.000000)\n",
      "163. feature 52 (0.000000)\n",
      "164. feature 54 (0.000000)\n",
      "165. feature 127 (0.000000)\n",
      "166. feature 128 (0.000000)\n",
      "167. feature 129 (0.000000)\n",
      "168. feature 183 (0.000000)\n",
      "169. feature 131 (0.000000)\n",
      "170. feature 182 (0.000000)\n",
      "171. feature 142 (0.000000)\n",
      "172. feature 144 (0.000000)\n",
      "173. feature 145 (0.000000)\n",
      "174. feature 146 (0.000000)\n",
      "175. feature 160 (0.000000)\n",
      "176. feature 181 (0.000000)\n",
      "177. feature 162 (0.000000)\n",
      "178. feature 164 (0.000000)\n",
      "179. feature 165 (0.000000)\n",
      "180. feature 176 (0.000000)\n",
      "181. feature 178 (0.000000)\n",
      "182. feature 126 (0.000000)\n",
      "183. feature 112 (0.000000)\n",
      "184. feature 110 (0.000000)\n",
      "185. feature 76 (0.000000)\n",
      "186. feature 55 (0.000000)\n",
      "187. feature 57 (0.000000)\n",
      "188. feature 196 (0.000000)\n",
      "189. feature 72 (0.000000)\n",
      "190. feature 73 (0.000000)\n",
      "191. feature 74 (0.000000)\n",
      "192. feature 75 (0.000000)\n",
      "193. feature 194 (0.000000)\n",
      "194. feature 108 (0.000000)\n",
      "195. feature 88 (0.000000)\n",
      "196. feature 179 (0.000000)\n",
      "197. feature 91 (0.000000)\n",
      "198. feature 92 (0.000000)\n",
      "199. feature 93 (0.000000)\n",
      "200. feature 106 (0.000000)\n",
      "201. feature 107 (0.000000)\n",
      "202. feature 0 (0.000000)\n",
      "('Length', 'width', 'l', 'r')\n"
     ]
    },
    {
     "data": {
      "image/png": "[encoded data removed]",
      "text/plain": [
       "<Figure size 432x288 with 1 Axes>"
      ]
     },
     "metadata": {
      "needs_background": "light"
     },
     "output_type": "display_data"
    }
   ],
   "source": [
    "# let's plot feature importances\n",
    "importances = rf.feature_importances_\n",
    "std = np.std([tree.feature_importances_ for tree in rf.estimators_],\n",
    "             axis=0)\n",
    "indices = np.argsort(importances)[::-1]\n",
    "top4_indices = indices[:4]\n",
    "# Print the feature ranking\n",
    "print(\"Feature ranking:\")\n",
    "\n",
    "for f in range(train_features.shape[1]):\n",
    "    print(\"%d. feature %d (%f)\" % (f + 1, indices[f], importances[indices[f]]))\n",
    "lbl = tuple([features_name[top4_indices[i]] for i in range(4)])\n",
    "print(lbl)\n",
    "# Plot the feature importances of the forest\n",
    "#plt.bar(range(train_features.shape[1]), importances[indices],\n",
    "#       color=\"r\", yerr=std[indices], align=\"center\")\n",
    "#plt.title(\"Feature importances\")\n",
    "#plt.xticks(range(train_features.shape[1]), indices)\n",
    "#plt.xlim([-1, train_features.shape[1]])\n",
    "# Plot the feature importances of the forest\n",
    "plt.bar(range(4), importances[top4_indices],\n",
    "       color=\"r\", yerr=std[top4_indices], align=\"center\")\n",
    "plt.title(\"Feature importances\")\n",
    "plt.xticks(range(4), lbl)\n",
    "plt.xlim([-1, 4])\n",
    "plt.show()"
   ]
  },
  {
   "cell_type": "code",
   "execution_count": 103,
   "metadata": {},
   "outputs": [],
   "source": [
    "pred_probability = rf.predict_proba(test_features)"
   ]
  },
  {
   "cell_type": "code",
   "execution_count": 155,
   "metadata": {},
   "outputs": [],
   "source": [
    "# save the model to disk\n",
    "filename = 'RF_model.sav'\n",
    "pickle.dump(rf, open(filename, 'wb'))"
   ]
  },
  {
   "cell_type": "code",
   "execution_count": 134,
   "metadata": {},
   "outputs": [
    {
     "data": {
      "text/plain": [
       "Text(0.5,1,'Real Grade : 8')"
      ]
     },
     "execution_count": 134,
     "metadata": {},
     "output_type": "execute_result"
    },
    {
     "data": {
      "image/png": "[encoded data removed]",
      "text/plain": [
       "<Figure size 432x288 with 1 Axes>"
      ]
     },
     "metadata": {
      "needs_background": "light"
     },
     "output_type": "display_data"
    }
   ],
   "source": [
    "#import matplotlib.pyplot as plt\n",
    "prob_num = 76\n",
    "real_grade = np.array(test_labels)\n",
    "plt.plot(range(min(v_labels),max(v_labels)+1),pred_probability[prob_num])\n",
    "plt.xlabel('Predicted Grade')\n",
    "plt.ylabel('Probability')\n",
    "plt.title('Real Grade : %d'%(real_grade[prob_num]))\n",
    "# plot probability distribution of each predictions\n",
    "# 45 is an example of good classification\n",
    "# 90 has two peaks... \n",
    "# ways to quantify this? difference between two peaks should be more than 0.3?\n",
    "# what about more wide distribution?"
   ]
  },
  {
   "cell_type": "code",
   "execution_count": 105,
   "metadata": {},
   "outputs": [
    {
     "name": "stdout",
     "output_type": "stream",
     "text": [
      "Mean Absolute Error: 0.98 degrees.\n"
     ]
    }
   ],
   "source": [
    "# Use the forest's predict method on the test data\n",
    "predictions = rf.predict(test_features)\n",
    "# Calculate the absolute errors\n",
    "errors = abs(predictions - test_labels)\n",
    "# Print out the mean absolute error (mae)\n",
    "print('Mean Absolute Error:', round(np.mean(errors), 2), 'degrees.')"
   ]
  },
  {
   "cell_type": "code",
   "execution_count": 187,
   "metadata": {},
   "outputs": [
    {
     "data": {
      "text/plain": [
       "Text(0.5,0,'V grade')"
      ]
     },
     "execution_count": 187,
     "metadata": {},
     "output_type": "execute_result"
    },
    {
     "data": {
      "image/png": "[encoded data removed]",
      "text/plain": [
       "<Figure size 432x288 with 1 Axes>"
      ]
     },
     "metadata": {
      "needs_background": "light"
     },
     "output_type": "display_data"
    }
   ],
   "source": [
    "plt.hist(test_labels, bins= range(min(v_labels),max(v_labels)+1), density=True, histtype='step',label='Real')\n",
    "plt.hist(predictions, bins= range(min(v_labels),max(v_labels)+1), density=True, histtype='step',label='Predicted')\n",
    "plt.title('Test label distribution')\n",
    "plt.legend(loc='upper right')\n",
    "plt.xlabel('V grade')"
   ]
  },
  {
   "cell_type": "code",
   "execution_count": 107,
   "metadata": {},
   "outputs": [
    {
     "name": "stdout",
     "output_type": "stream",
     "text": [
      "[5 5 5 ... 6 8 7]\n"
     ]
    }
   ],
   "source": [
    "print(predictions)"
   ]
  },
  {
   "cell_type": "code",
   "execution_count": 176,
   "metadata": {},
   "outputs": [
    {
     "name": "stdout",
     "output_type": "stream",
     "text": [
      "[ 0  0  0 ... -1  3 -1]\n",
      "0.4359281437125748\n"
     ]
    },
    {
     "data": {
      "image/png": "[encoded data removed]",
      "text/plain": [
       "<Figure size 432x288 with 1 Axes>"
      ]
     },
     "metadata": {
      "needs_background": "light"
     },
     "output_type": "display_data"
    }
   ],
   "source": [
    "pred = np.array(predictions)\n",
    "tlabel = np.array(test_labels)\n",
    "tst = pred-tlabel\n",
    "print(tst)\n",
    "binwidth=1\n",
    "plt.hist(tst,bins=range(min(tst),max(tst),binwidth),density=True)\n",
    "plt.xlabel('prediction-label')\n",
    "plt.ylabel('fraction')\n",
    "print((len(tst)-np.count_nonzero(tst))/len(tst))\n",
    "# 38% accuracy (exact classification)\n",
    "# Classifier tend to classify problems easier than it actually is: prob because not many hard problems exist"
   ]
  },
  {
   "cell_type": "code",
   "execution_count": 109,
   "metadata": {},
   "outputs": [
    {
     "name": "stdout",
     "output_type": "stream",
     "text": [
      "Accuracy: 86.48 %.\n"
     ]
    }
   ],
   "source": [
    "# Calculate mean absolute percentage error (MAPE)\n",
    "mape = 100 * (errors / test_labels)\n",
    "# Calculate and display accuracy\n",
    "accuracy = 100 - np.mean(mape)\n",
    "print('Accuracy:', round(accuracy, 2), '%.')\n",
    "# by removing 6A+, the accuracy improves from 76 to 78%\n",
    "# by adding length, 78 to 79%\n",
    "# RFclassifier -> 80.3%\n",
    "# why was the stanford group's accuracy so low? -> because they only looked at rate at which \n",
    "# they actually got the label correct\n",
    "# LET'S IMPLEMENT IMBALANCE LEARNING"
   ]
  },
  {
   "cell_type": "code",
   "execution_count": 110,
   "metadata": {},
   "outputs": [
    {
     "name": "stdout",
     "output_type": "stream",
     "text": [
      "[(5, 3532), (6, 3532), (7, 3532), (8, 3532), (9, 3532), (10, 3532), (11, 3532), (12, 3532), (13, 3532), (14, 3532)]\n"
     ]
    }
   ],
   "source": [
    "from imblearn.over_sampling import RandomOverSampler\n",
    "ros = RandomOverSampler(random_state=0)\n",
    "X_resampled, y_resampled = ros.fit_sample(train_features, train_labels)\n",
    "from collections import Counter\n",
    "print(sorted(Counter(y_resampled).items()))"
   ]
  },
  {
   "cell_type": "code",
   "execution_count": 111,
   "metadata": {},
   "outputs": [],
   "source": [
    "rf2 = RandomForestClassifier(n_estimators = 1000, random_state = 42)\n",
    "# Train the model on training data\n",
    "rf2.fit(X_resampled, y_resampled)\n",
    "pred_probability2 = rf2.predict_proba(test_features)\n",
    "predictions2 = rf2.predict(test_features)"
   ]
  },
  {
   "cell_type": "code",
   "execution_count": 112,
   "metadata": {},
   "outputs": [
    {
     "name": "stdout",
     "output_type": "stream",
     "text": [
      "0.43233532934131735\n",
      "[0.57438479 0.25961538 0.26807229 0.28031496 0.26119403 0.18181818\n",
      " 0.3        0.         0.         0.        ]\n"
     ]
    },
    {
     "name": "stderr",
     "output_type": "stream",
     "text": [
      "/home/ijee/anaconda3/envs/insight/lib/python3.6/site-packages/sklearn/metrics/classification.py:1135: UndefinedMetricWarning: Precision is ill-defined and being set to 0.0 in labels with no predicted samples.\n",
      "  'precision', 'predicted', average, warn_for)\n"
     ]
    }
   ],
   "source": [
    "print(rf2.score(test_features, test_labels))\n",
    "print(precision_score(test_labels, predictions2, average=None))"
   ]
  },
  {
   "cell_type": "code",
   "execution_count": 113,
   "metadata": {},
   "outputs": [
    {
     "data": {
      "text/plain": [
       "Text(0.5,1,'Real Grade : 8')"
      ]
     },
     "execution_count": 113,
     "metadata": {},
     "output_type": "execute_result"
    },
    {
     "data": {
      "image/png": "[encoded data removed]",
      "text/plain": [
       "<Figure size 432x288 with 1 Axes>"
      ]
     },
     "metadata": {
      "needs_background": "light"
     },
     "output_type": "display_data"
    }
   ],
   "source": [
    "#import matplotlib.pyplot as plt\n",
    "prob_num = 723\n",
    "real_grade = np.array(test_labels)\n",
    "plt.plot(range(min(v_labels),max(v_labels)+1),pred_probability2[prob_num])\n",
    "plt.xlabel('Predicted Grade')\n",
    "plt.ylabel('Probability')\n",
    "plt.title('Real Grade : %d'%(real_grade[prob_num]))\n",
    "# plot probability distribution of each predictions\n",
    "# 45 is an example of good peak but is off by the true label :P\n",
    "# 90, 579 is a good classification! :D\n",
    "# 710 has three peaks :P\n",
    "# 951 matches\n",
    "# ways to quantify this? difference between two peaks should be more than 0.3?\n",
    "# what about more wide distribution?"
   ]
  },
  {
   "cell_type": "code",
   "execution_count": 114,
   "metadata": {},
   "outputs": [
    {
     "name": "stdout",
     "output_type": "stream",
     "text": [
      "[ 1  0  0 ... -1  4 -1]\n",
      "0.43233532934131735\n"
     ]
    },
    {
     "data": {
      "image/png": "[encoded data removed]",
      "text/plain": [
       "<Figure size 432x288 with 1 Axes>"
      ]
     },
     "metadata": {
      "needs_background": "light"
     },
     "output_type": "display_data"
    }
   ],
   "source": [
    "pred2 = np.array(predictions2)\n",
    "tst2 = pred2-tlabel\n",
    "print(tst2)\n",
    "binwidth=1\n",
    "plt.hist(tst2,bins=range(min(tst),max(tst),binwidth),density=True)\n",
    "plt.xlabel('prediction-label')\n",
    "plt.ylabel('count')\n",
    "print((len(tst2)-np.count_nonzero(tst2))/len(tst2))\n",
    "# 38.5% accuracy (exact classification)"
   ]
  },
  {
   "cell_type": "code",
   "execution_count": 115,
   "metadata": {},
   "outputs": [],
   "source": [
    "# implement a function that take input data as 2d coordinates (list), process it by doing mlb transformation \n",
    "# + count, left, right, to make it the same format as train / test data. \n",
    "# Run it through the RF model, return the expected grade, probability of difficulty\n",
    "def input_to_output(list):\n",
    "    h_enc = mlb.transform([list])\n",
    "    h_enc = pd.DataFrame(h_enc,columns=mlb.classes_)\n",
    "    tmp = xlims(list)\n",
    "    tmp = {'lr':[tmp]}\n",
    "    tmp2 = pd.DataFrame.from_dict(tmp)\n",
    "    tmp2[['l','r']] = pd.DataFrame(tmp2.lr.values.tolist(), index= tmp2.index)\n",
    "    tmp2 = tmp2.drop(['lr'],axis=1)\n",
    "    h_enc['Length'] = pd.Series(len(list))\n",
    "    h_enc = h_enc.join(tmp2)\n",
    "    h_enc['width'] = h_enc['r']-h_enc['l']\n",
    "    prob = rf2.predict_proba(h_enc)\n",
    "    plt.plot(range(min(v_labels),max(v_labels)+1),prob[0])\n",
    "    return [rf2.predict(h_enc),rf2.predict_proba(h_enc)]"
   ]
  },
  {
   "cell_type": "code",
   "execution_count": 154,
   "metadata": {},
   "outputs": [],
   "source": [
    "# save the model to disk\n",
    "filename = 'RF_imbmodel.sav'\n",
    "pickle.dump(rf2, open(filename, 'wb'))"
   ]
  },
  {
   "cell_type": "code",
   "execution_count": 116,
   "metadata": {},
   "outputs": [
    {
     "data": {
      "text/plain": [
       "[array([8]),\n",
       " array([[0.09 , 0.193, 0.205, 0.27 , 0.182, 0.055, 0.005, 0.   , 0.   ,\n",
       "         0.   ]])]"
      ]
     },
     "execution_count": 116,
     "metadata": {},
     "output_type": "execute_result"
    },
    {
     "data": {
      "image/png": "[encoded data removed]",
      "text/plain": [
       "<Figure size 432x288 with 1 Axes>"
      ]
     },
     "metadata": {
      "needs_background": "light"
     },
     "output_type": "display_data"
    }
   ],
   "source": [
    "input_to_output(['A1','B5','C9','D13','E17','F18'])"
   ]
  },
  {
   "cell_type": "code",
   "execution_count": 117,
   "metadata": {},
   "outputs": [
    {
     "data": {
      "text/plain": [
       "<matplotlib.axes._subplots.AxesSubplot at 0x7fe1dbcc3860>"
      ]
     },
     "execution_count": 117,
     "metadata": {},
     "output_type": "execute_result"
    },
    {
     "data": {
      "image/png": "[encoded data removed]",
      "text/plain": [
       "<Figure size 432x288 with 1 Axes>"
      ]
     },
     "metadata": {
      "needs_background": "light"
     },
     "output_type": "display_data"
    }
   ],
   "source": [
    "sns.countplot(x='l', data=df_holds_enc)"
   ]
  },
  {
   "cell_type": "code",
   "execution_count": 118,
   "metadata": {},
   "outputs": [
    {
     "data": {
      "text/plain": [
       "<matplotlib.axes._subplots.AxesSubplot at 0x7fe1dbcf2748>"
      ]
     },
     "execution_count": 118,
     "metadata": {},
     "output_type": "execute_result"
    },
    {
     "data": {
      "image/png": "[encoded data removed]",
      "text/plain": [
       "<Figure size 432x288 with 1 Axes>"
      ]
     },
     "metadata": {
      "needs_background": "light"
     },
     "output_type": "display_data"
    }
   ],
   "source": [
    "sns.countplot(x='r', data=df_holds_enc)"
   ]
  },
  {
   "cell_type": "code",
   "execution_count": 119,
   "metadata": {},
   "outputs": [
    {
     "data": {
      "text/plain": [
       "<matplotlib.axes._subplots.AxesSubplot at 0x7fe1dbbe95f8>"
      ]
     },
     "execution_count": 119,
     "metadata": {},
     "output_type": "execute_result"
    },
    {
     "data": {
      "image/png": "[encoded data removed]",
      "text/plain": [
       "<Figure size 432x288 with 1 Axes>"
      ]
     },
     "metadata": {
      "needs_background": "light"
     },
     "output_type": "display_data"
    }
   ],
   "source": [
    "sns.countplot(x='width', data=df_holds_enc)"
   ]
  },
  {
   "cell_type": "code",
   "execution_count": null,
   "metadata": {},
   "outputs": [],
   "source": [
    "input_to_output()"
   ]
  },
  {
   "cell_type": "code",
   "execution_count": 131,
   "metadata": {},
   "outputs": [],
   "source": [
    "# function creating a clickable grid (11 x 18) and return the coordinate clicked\n",
    "import tkinter as tk\n",
    "\n",
    "def click(row, col):\n",
    "    label.configure(text=\"you clicked %s%s\" % ( chr(col+65),row+1))\n",
    "\n",
    "root = tk.Tk()\n",
    "for col in range(11):\n",
    "    for row in range(18):\n",
    "        button = tk.Button(root, text=\"%s%s\" % (chr(col+65), row+1), \n",
    "                           command=lambda row=19-row, col=col: click(19-row, col))\n",
    "        button.grid(row=19-row, column=col, sticky=\"nsew\")\n",
    "label = tk.Label(root, text=\"\")\n",
    "label.grid(row=20, column=0, columnspan=11, sticky=\"new\")\n",
    "\n",
    "root.grid_rowconfigure(18, weight=1)\n",
    "root.grid_columnconfigure(11, weight=1)\n",
    "\n",
    "root.mainloop()"
   ]
  },
  {
   "cell_type": "code",
   "execution_count": null,
   "metadata": {},
   "outputs": [],
   "source": []
  }
 ],
 "metadata": {
  "kernelspec": {
   "display_name": "Python 3",
   "language": "python",
   "name": "python3"
  },
  "language_info": {
   "codemirror_mode": {
    "name": "ipython",
    "version": 3
   },
   "file_extension": ".py",
   "mimetype": "text/x-python",
   "name": "python",
   "nbconvert_exporter": "python",
   "pygments_lexer": "ipython3",
   "version": "3.6.6"
  }
 },
 "nbformat": 4,
 "nbformat_minor": 2
}
