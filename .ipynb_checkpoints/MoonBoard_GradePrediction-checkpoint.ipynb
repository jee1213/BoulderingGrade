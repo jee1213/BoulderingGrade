{
 "cells": [
  {
   "cell_type": "code",
   "execution_count": 1,
   "metadata": {},
   "outputs": [],
   "source": [
    "from sqlalchemy import create_engine\n",
    "from sqlalchemy_utils import database_exists, create_database\n",
    "import psycopg2\n",
    "import pandas as pd"
   ]
  },
  {
   "cell_type": "code",
   "execution_count": 2,
   "metadata": {},
   "outputs": [],
   "source": [
    "import numpy as np\n",
    "import matplotlib.pyplot as plt\n",
    "import pickle"
   ]
  },
  {
   "cell_type": "code",
   "execution_count": 3,
   "metadata": {},
   "outputs": [],
   "source": [
    "# Define a database name (we're using a dataset on births, so we'll call it birth_db)\n",
    "# Set your postgres username/password, and connection specifics\n",
    "#username = 'usernama'\n",
    "#password = ''pwd     # change this\n",
    "#host     = 'localhost'\n",
    "#port     = '5432'            # default port that postgres listens on\n",
    "#db_name  = 'MB_db'"
   ]
  },
  {
   "cell_type": "code",
   "execution_count": 4,
   "metadata": {},
   "outputs": [],
   "source": [
    "## 'engine' is a connection to a database\n",
    "## Here, we're using postgres, but sqlalchemy can connect to other things too.\n",
    "#engine = create_engine( 'postgresql://{}:{}@{}:{}/{}'.format(username, password, host, port, db_name) )\n",
    "#print(engine.url)"
   ]
  },
  {
   "cell_type": "markdown",
   "metadata": {},
   "source": [
    "Before running the commands below, initiate SQL server from a terminal by:<br>\n",
    "sudo service postgresql start<br>\n",
    "sudo service postgresql status<br>\n",
    "(sudo passwd postgres) - set a password for postgres: one-time thing<br>\n",
    "su postgres<br>"
   ]
  },
  {
   "cell_type": "code",
   "execution_count": 5,
   "metadata": {},
   "outputs": [],
   "source": [
    "# for now not using this, as \n",
    "#if not database_exists(engine.url):\n",
    "#    create_database(engine.url)\n",
    "#print(database_exists(engine.url))"
   ]
  },
  {
   "cell_type": "code",
   "execution_count": 6,
   "metadata": {},
   "outputs": [],
   "source": [
    "import json"
   ]
  },
  {
   "cell_type": "code",
   "execution_count": 7,
   "metadata": {},
   "outputs": [],
   "source": [
    "data = []\n",
    "# MB Masters 2017 run using 11k data\n",
    "#for line in open('problems.txt', 'r'):\n",
    "#MB 2016 run using 19k data\n",
    "for line in open('problems_2016.txt', 'r'):\n",
    "    data.append(json.loads(line))\n",
    "# This creates a list of json-problems: to load this with sql, cast it to dataframe"
   ]
  },
  {
   "cell_type": "code",
   "execution_count": 8,
   "metadata": {},
   "outputs": [
    {
     "name": "stdout",
     "output_type": "stream",
     "text": [
      "{'Method': 'Feet follow hands', 'Name': 'COUCH PROBLEM', 'Grade': '7A+', 'UserGrade': None, 'MoonBoardConfiguration': None, 'MoonBoardConfigurationId': 0, 'Setter': {'Id': '90FEA433-70AA-41AB-B93A-B3F30037E218', 'Nickname': 'marcel aarden', 'Firstname': 'marcel', 'Lastname': 'aarden', 'City': 'victoria', 'Country': 'CANADA', 'ProfileImageUrl': '/Content/Account/Images/default-profile.png?636728751296147425', 'CanShareData': True}, 'FirstAscender': False, 'Rating': 0, 'UserRating': 0, 'Repeats': 0, 'Attempts': 0, 'Holdsetup': {'Id': 1, 'Description': 'MoonBoard 2016', 'Setby': None, 'DateInserted': None, 'DateUpdated': None, 'DateDeleted': None, 'IsLocked': False, 'Holdsets': None, 'MoonBoardConfigurations': None, 'HoldLayoutId': 0, 'AllowClimbMethods': False}, 'IsBenchmark': False, 'IsAssessmentProblem': False, 'ProblemType': None, 'Moves': [{'Id': 1790343, 'Description': 'K5', 'IsStart': True, 'IsEnd': False}, {'Id': 1790344, 'Description': 'K8', 'IsStart': False, 'IsEnd': False}, {'Id': 1790345, 'Description': 'H10', 'IsStart': False, 'IsEnd': False}, {'Id': 1790346, 'Description': 'B11', 'IsStart': False, 'IsEnd': False}, {'Id': 1790347, 'Description': 'B15', 'IsStart': False, 'IsEnd': False}, {'Id': 1790348, 'Description': 'A15', 'IsStart': False, 'IsEnd': False}, {'Id': 1790349, 'Description': 'A18', 'IsStart': False, 'IsEnd': True}], 'Holdsets': None, 'Locations': [{'Id': 0, 'Holdset': None, 'Description': 'A15', 'X': 95, 'Y': 238, 'Color': '0x0000FF', 'Rotation': 0, 'Type': 2, 'HoldNumber': None, 'Direction': 0, 'DirectionString': 'N'}, {'Id': 0, 'Holdset': None, 'Description': 'A18', 'X': 95, 'Y': 88, 'Color': '0xFF0000', 'Rotation': 0, 'Type': 3, 'HoldNumber': None, 'Direction': 0, 'DirectionString': 'N'}, {'Id': 0, 'Holdset': None, 'Description': 'B15', 'X': 145, 'Y': 236, 'Color': '0x0000FF', 'Rotation': 0, 'Type': 2, 'HoldNumber': None, 'Direction': 0, 'DirectionString': 'N'}, {'Id': 0, 'Holdset': None, 'Description': 'B11', 'X': 145, 'Y': 436, 'Color': '0x0000FF', 'Rotation': 0, 'Type': 2, 'HoldNumber': None, 'Direction': 0, 'DirectionString': 'N'}, {'Id': 0, 'Holdset': None, 'Description': 'H10', 'X': 445, 'Y': 486, 'Color': '0x0000FF', 'Rotation': 0, 'Type': 2, 'HoldNumber': None, 'Direction': 0, 'DirectionString': 'N'}, {'Id': 0, 'Holdset': None, 'Description': 'K5', 'X': 595, 'Y': 738, 'Color': '0x00FF00', 'Rotation': 0, 'Type': 1, 'HoldNumber': None, 'Direction': 0, 'DirectionString': 'N'}, {'Id': 0, 'Holdset': None, 'Description': 'K8', 'X': 595, 'Y': 588, 'Color': '0x0000FF', 'Rotation': 0, 'Type': 2, 'HoldNumber': None, 'Direction': 0, 'DirectionString': 'N'}], 'RepeatText': 'Be the first to repeat this problem', 'NumberOfTries': None, 'NameForUrl': 'couch-problem', 'Id': 326388, 'ApiId': 0, 'DateInserted': '/Date(1537240230503)/', 'DateUpdated': None, 'DateDeleted': None, 'DateTimeString': '18 Sep 2018 04:10'}\n"
     ]
    }
   ],
   "source": [
    "# sanity check: Is the data well read?\n",
    "print(data[1])"
   ]
  },
  {
   "cell_type": "code",
   "execution_count": 9,
   "metadata": {},
   "outputs": [],
   "source": [
    "# read a database from CSV and load it into a pandas dataframe : \n",
    "# birdh_data = pd.read_csv('births2012_downsampled.csv', index_col=0)"
   ]
  },
  {
   "cell_type": "code",
   "execution_count": 10,
   "metadata": {},
   "outputs": [],
   "source": [
    "# reading data in python : good for performance comparison, but we don't need it\n",
    "## insert data into database from Python (proof of concept - this won't be useful for big data, of course)\n",
    "problems_raw = pd.DataFrame(data)\n",
    "# MB2017\n",
    "# problems = problems_raw.loc[problems_raw['Grade']!='6A+']\n",
    "# MB2016\n",
    "problems = problems_raw.loc[problems_raw['Grade']!='6B+']\n",
    "problems = problems.reset_index()\n",
    "#problems.to_sql('MB_prob_table', engine, if_exists='replace')"
   ]
  },
  {
   "cell_type": "code",
   "execution_count": 11,
   "metadata": {},
   "outputs": [],
   "source": [
    "# Let's implement SQL part later, and focus on DataFrame for now. The data would not be that big in the end!\n",
    "#con = None\n",
    "#con = psycopg2.connect(database = db_name, user = username, password=password)\n",
    "\n",
    "# created a symbolic link in /tmp/ to /var/run/postgresql/\n",
    "# password supplied to psycopg2\n",
    "\n",
    "# query:\n",
    "#sql_query = \"\"\"\n",
    "#SELECT * FROM birth_data_table WHERE delivery_method='Cesarean';\n",
    "#\"\"\"\n",
    "#birth_data_from_sql = pd.read_sql_query(sql_query,con)\n",
    "#birth_data_from_sql.head()"
   ]
  },
  {
   "cell_type": "code",
   "execution_count": 12,
   "metadata": {},
   "outputs": [],
   "source": [
    "import seaborn as sns"
   ]
  },
  {
   "cell_type": "code",
   "execution_count": 13,
   "metadata": {},
   "outputs": [
    {
     "name": "stdout",
     "output_type": "stream",
     "text": [
      "17\n",
      "[2, 3, 3, 4, 4, 5, 5, 6, 7, 8, 8, 9, 9, 9, 9, 9, 9]\n"
     ]
    }
   ],
   "source": [
    "font = ['5+','6A','6A+','6B','6B+','6C','6C+','7A','7A+','7B','7B+','7C','7C+','8A','8A+','8B','8B+']\n",
    "# to fight the class imbalance, let's cast problems harder than 9 as 9\n",
    "#vgrd = [2,3,3,4,4,5,5,6,7,8,8,9,10,11,12,13,14]\n",
    "vgrd = [2,3,3,4,4,5,5,6,7,8,8,9,9,9,9,9,9]\n",
    "print(len(font))\n",
    "print((vgrd))"
   ]
  },
  {
   "cell_type": "code",
   "execution_count": 14,
   "metadata": {},
   "outputs": [],
   "source": [
    "grade_conversion = dict(zip(font,vgrd))"
   ]
  },
  {
   "cell_type": "code",
   "execution_count": 15,
   "metadata": {},
   "outputs": [
    {
     "data": {
      "text/plain": [
       "<matplotlib.axes._subplots.AxesSubplot at 0x7f9e95ce2c50>"
      ]
     },
     "execution_count": 15,
     "metadata": {},
     "output_type": "execute_result"
    },
    {
     "data": {
      "image/png": "[encoded data removed]",
      "text/plain": [
       "<Figure size 432x288 with 1 Axes>"
      ]
     },
     "metadata": {
      "needs_background": "light"
     },
     "output_type": "display_data"
    }
   ],
   "source": [
    "%matplotlib inline\n",
    "sns.countplot(x=\"Grade\", data=problems, order=['5+','6A','6A+','6B','6B+','6C','6C+','7A','7A+','7B','7B+','7C','7C+','8A','8A+','8B','8B+'])\n",
    "# model: two lognormal with 6A+ being faulty data collection?\n",
    "# since the grades are ordinal, may I model it as lognormal...?\n",
    "# Why a dip at 7B and not so obvious excess at 6B+? Is there any reason to believe that\n",
    "# especially 7B route setters are more likely to estimate the grade wrong?"
   ]
  },
  {
   "cell_type": "code",
   "execution_count": 16,
   "metadata": {},
   "outputs": [
    {
     "data": {
      "text/plain": [
       "<matplotlib.axes._subplots.AxesSubplot at 0x7f9e959c10f0>"
      ]
     },
     "execution_count": 16,
     "metadata": {},
     "output_type": "execute_result"
    },
    {
     "data": {
      "image/png": "[encoded data removed]",
      "text/plain": [
       "<Figure size 432x288 with 1 Axes>"
      ]
     },
     "metadata": {
      "needs_background": "light"
     },
     "output_type": "display_data"
    }
   ],
   "source": [
    "sns.countplot(x=\"UserGrade\", data=problems, order=['5+','6A','6B','6B+','6C','6C+','7A','7A+','7B','7B+','7C','7C+','8A','8A+','8B','8B+'])\n",
    "# can this be accounted as a \"real\" distribution of grades \n",
    "# (since this means other users cared enough to grade the ther's problem)? \n",
    "# It does look log-normal! :P\n",
    "# fit log-normal and use the param as the \"ideal\" grade distribution?"
   ]
  },
  {
   "cell_type": "code",
   "execution_count": 17,
   "metadata": {},
   "outputs": [],
   "source": [
    "#sns.countplot(x=\"Repeats\", data=problems)"
   ]
  },
  {
   "cell_type": "code",
   "execution_count": 18,
   "metadata": {},
   "outputs": [],
   "source": [
    "#sns.countplot(x=\"Method\", data=problems)"
   ]
  },
  {
   "cell_type": "code",
   "execution_count": 19,
   "metadata": {},
   "outputs": [],
   "source": [
    "#sns.countplot(x=\"UserRating\", data=problems)"
   ]
  },
  {
   "cell_type": "code",
   "execution_count": 20,
   "metadata": {},
   "outputs": [],
   "source": [
    "# additional feature engineering : distances between holds?\n",
    "def alphabet_to_num(char_lst):\n",
    "    num = np.array([ord(char.lower()) for char in char_lst])\n",
    "    return num - 96\n",
    "def split_xy(str_arr):\n",
    "    import re\n",
    "    r = re.compile(\"([a-zA-Z]+)([0-9]+)\")\n",
    "    ret = [list(r.match(string).groups()) for string in str_arr]\n",
    "    x = [ret[i][0] for i in range(len(str_arr))]\n",
    "    y = [ret[i][1] for i in range(len(str_arr))]\n",
    "    #strings = ['foofo21', 'bar432', 'foobar12345']\n",
    "    return np.array(x),np.array(y)\n",
    "def coord(hold_lst):\n",
    "    xcoord , ycoord = split_xy(hold_lst)\n",
    "    coord1 = np.vstack((alphabet_to_num(xcoord).astype(int),ycoord.astype(int)))\n",
    "    # return [[x1,y1],[x2,y2]...]\n",
    "    return coord1.transpose()\n",
    "def distance(hold1, hold2):\n",
    "    coord1 = coord(hold1)\n",
    "    coord2 = coord(hold2)\n",
    "    return np.linalg.norm(coord1-coord2)"
   ]
  },
  {
   "cell_type": "code",
   "execution_count": 21,
   "metadata": {},
   "outputs": [],
   "source": [
    "#num_to_alphabet(2)"
   ]
  },
  {
   "cell_type": "code",
   "execution_count": 22,
   "metadata": {},
   "outputs": [],
   "source": [
    "length = [len((problems['Moves'][i])) for i in range(len(problems))]"
   ]
  },
  {
   "cell_type": "code",
   "execution_count": 23,
   "metadata": {},
   "outputs": [],
   "source": [
    "problems['NHolds'] = pd.Series(length)\n",
    "# due to calculation overload, remo\n",
    "problems = problems.loc[problems['NHolds']<13].reset_index()"
   ]
  },
  {
   "cell_type": "code",
   "execution_count": 24,
   "metadata": {},
   "outputs": [
    {
     "data": {
      "text/plain": [
       "<matplotlib.axes._subplots.AxesSubplot at 0x7f9e958d1e48>"
      ]
     },
     "execution_count": 24,
     "metadata": {},
     "output_type": "execute_result"
    },
    {
     "data": {
      "image/png": "[encoded data removed]",
      "text/plain": [
       "<Figure size 432x288 with 1 Axes>"
      ]
     },
     "metadata": {
      "needs_background": "light"
     },
     "output_type": "display_data"
    }
   ],
   "source": [
    "sns.countplot(x='NHolds', data=problems)"
   ]
  },
  {
   "cell_type": "code",
   "execution_count": 25,
   "metadata": {},
   "outputs": [
    {
     "name": "stderr",
     "output_type": "stream",
     "text": [
      "/home/ijee/anaconda3/envs/insight/lib/python3.6/site-packages/seaborn/axisgrid.py:230: UserWarning: The `size` paramter has been renamed to `height`; please update your code.\n",
      "  warnings.warn(msg, UserWarning)\n"
     ]
    },
    {
     "data": {
      "image/png": "[encoded data removed]",
      "text/plain": [
       "<Figure size 261.44x1584 with 10 Axes>"
      ]
     },
     "metadata": {
      "needs_background": "light"
     },
     "output_type": "display_data"
    }
   ],
   "source": [
    "grid = sns.FacetGrid(data = problems, col='Method', row='NHolds', size=2.2, aspect=1.6)\n",
    "grid.map(sns.countplot, 'Grade', order=['5+','6A','6B','6B+','6C','6C+','7A','7A+','7B','7B+','7C','7C+','8A','8A+','8B','8B+'])\n",
    "grid.add_legend();"
   ]
  },
  {
   "cell_type": "code",
   "execution_count": 220,
   "metadata": {},
   "outputs": [
    {
     "name": "stdout",
     "output_type": "stream",
     "text": [
      "{'Id': 1790368, 'Description': 'B3', 'IsStart': True, 'IsEnd': False}\n",
      "B3\n"
     ]
    }
   ],
   "source": [
    "print(problems['Moves'][0][0])\n",
    "print(problems['Moves'][0][0]['Description'])\n",
    "holds = []\n",
    "for i in range(len(problems)):\n",
    "    holds.append([problems['Moves'][i][j]['Description'] for j in range(problems['NHolds'][i])])"
   ]
  },
  {
   "cell_type": "code",
   "execution_count": 27,
   "metadata": {},
   "outputs": [
    {
     "name": "stdout",
     "output_type": "stream",
     "text": [
      "['G2', 'E7', 'H11', 'F12', 'I16', 'G18']\n"
     ]
    }
   ],
   "source": [
    "print(holds[12])"
   ]
  },
  {
   "cell_type": "code",
   "execution_count": 28,
   "metadata": {},
   "outputs": [],
   "source": [
    "start = []\n",
    "end = []\n",
    "interm = []\n",
    "for i in range(len(problems)):\n",
    "    tmp_s = []\n",
    "    tmp_e = []\n",
    "    tmp_i = []\n",
    "    for j in range(problems['NHolds'][i]):\n",
    "        if problems['Moves'][i][j]['IsStart'] == True:\n",
    "            tmp_s.append(problems['Moves'][i][j]['Description'] )\n",
    "        elif problems['Moves'][i][j]['IsEnd'] == True:\n",
    "            tmp_e.append(problems['Moves'][i][j]['Description'] )\n",
    "        else:\n",
    "            tmp_i.append(problems['Moves'][i][j]['Description'])\n",
    "    start.append(tmp_s)\n",
    "    end.append(tmp_e)\n",
    "    interm.append(tmp_i)"
   ]
  },
  {
   "cell_type": "code",
   "execution_count": 29,
   "metadata": {},
   "outputs": [
    {
     "data": {
      "text/plain": [
       "10"
      ]
     },
     "execution_count": 29,
     "metadata": {},
     "output_type": "execute_result"
    }
   ],
   "source": [
    "#t = 420\n",
    "#print(start[t])\n",
    "#print(holds[t])\n",
    "#print(end[t])\n",
    "#print(list(set(holds[t])-set(start[t])-set(end[t])))\n",
    "#print(interm[t])\n",
    "interm_len = [len(i) for i in interm]\n",
    "max(interm_len)"
   ]
  },
  {
   "cell_type": "code",
   "execution_count": 30,
   "metadata": {},
   "outputs": [
    {
     "name": "stdout",
     "output_type": "stream",
     "text": [
      "(array(['B', 'A'], dtype='<U1'), array(['3', '5'], dtype='<U1'))\n",
      "[[2 3]\n",
      " [1 5]]\n"
     ]
    }
   ],
   "source": [
    "print(split_xy(start[0]))\n",
    "print(coord(start[0]))"
   ]
  },
  {
   "cell_type": "code",
   "execution_count": 31,
   "metadata": {},
   "outputs": [
    {
     "name": "stdout",
     "output_type": "stream",
     "text": [
      "['G8', 'E7', 'C10', 'D12', 'D15', 'G15', 'G17']\n"
     ]
    }
   ],
   "source": [
    "print(interm[0])"
   ]
  },
  {
   "cell_type": "code",
   "execution_count": 32,
   "metadata": {},
   "outputs": [],
   "source": [
    "def minpath_length(interm, start = None, end = None):\n",
    "    #compute distance matrix\n",
    "    from sklearn.metrics.pairwise import pairwise_distances\n",
    "    #from skimage.graph import route_through_array\n",
    "    # create numbered coordinates of interm\n",
    "    interm = coord(interm)\n",
    "    sort_int = np.array(sorted(interm, key=lambda x: x[1]))\n",
    "    print(sort_int)\n",
    "    if start==None:\n",
    "        start = sort_int[0]\n",
    "        sort_int = np.delete(sort_int,0,0)\n",
    "    elif len(start) == 1:\n",
    "        start = coord(start)\n",
    "    else:\n",
    "        s1 = coord(start)\n",
    "        start = (s1[0] + s1[1]) / 2.\n",
    "    if end == None:\n",
    "        end = sort_int[-1]\n",
    "        sort_int = np.delete(sort_int,-1,0)\n",
    "    elif len(end) == 1:\n",
    "        end = coord(end)\n",
    "    else:\n",
    "        e1 = coord(end)\n",
    "        end = (e1[0] + e1[1]) / 2.\n",
    "    #print(sort_int)\n",
    "    tgt = np.vstack((np.vstack((start,sort_int)),end))\n",
    "    dist_matrix = pairwise_distances(tgt)\n",
    "    #dist_matrix = dist_matrix[~np.eye(dist_matrix.shape[0],dtype=bool)].reshape(dist_matrix.shape[0],-1)\n",
    "\n",
    "    #print(dist_matrix)\n",
    "    n = len(sort_int) + 1\n",
    "    import itertools\n",
    "    permu = list(itertools.permutations(range(1,n)))\n",
    "    min_dist = 1000\n",
    "    min_dist_std = 100000\n",
    "    for i in range(len(permu)):\n",
    "        it = permu[i]\n",
    "        tmp = dist_matrix[0,it[0]] + dist_matrix[it[-1],n]\n",
    "        tmp_std = dist_matrix[0,it[0]]**2. + dist_matrix[it[-1],n]**2.\n",
    "        for j in range(n-2):\n",
    "            tmp += dist_matrix[it[j],it[j+1]]\n",
    "            tmp_std += dist_matrix[it[j],it[j+1]]**2.\n",
    "        min_dist = min(min_dist, tmp)\n",
    "        if min_dist == tmp:\n",
    "            min_dist_std = tmp_std\n",
    "    min_dist_std = np.sqrt(min_dist_std / (n) - (min_dist/(n))**2. )\n",
    "    #remove diagonal?\n",
    "    return [min_dist, min_dist_std]"
   ]
  },
  {
   "cell_type": "code",
   "execution_count": 33,
   "metadata": {},
   "outputs": [
    {
     "name": "stdout",
     "output_type": "stream",
     "text": [
      "[[ 5  7]\n",
      " [ 7  8]\n",
      " [ 3 10]\n",
      " [ 4 12]\n",
      " [ 4 15]\n",
      " [ 7 15]\n",
      " [ 7 17]]\n"
     ]
    },
    {
     "data": {
      "text/plain": [
       "[16.94427190999916, 0.831525529774668]"
      ]
     },
     "execution_count": 33,
     "metadata": {},
     "output_type": "execute_result"
    }
   ],
   "source": [
    "minpath_length(interm[0])"
   ]
  },
  {
   "cell_type": "code",
   "execution_count": 34,
   "metadata": {},
   "outputs": [],
   "source": [
    "#n = 5126\n",
    "try:\n",
    "    path = pd.read_csv(\"file_path.csv\",header=None, names=['idx','plength','std_plength'])\n",
    "except:\n",
    "    path = [minpath_length(interm[n],start = start[n],end = end[n]) for n in range(len(problems))]\n",
    "    df_path = pd.DataFrame(path)\n",
    "    df_path.to_csv(\"file_path.csv\", header=None)"
   ]
  },
  {
   "cell_type": "code",
   "execution_count": 35,
   "metadata": {},
   "outputs": [],
   "source": [
    "path = path.drop(['idx'],axis=1)\n"
   ]
  },
  {
   "cell_type": "code",
   "execution_count": 36,
   "metadata": {},
   "outputs": [],
   "source": [
    "def xlims(list):\n",
    "    # return (leftmost, rightmost) x coordinate of a given problem\n",
    "    n = len(list)\n",
    "    #coords = [alphabet_to_num(split_xy(list[i])[0]) for i in range(n)]\n",
    "    coords = coord(list).transpose()\n",
    "#    xcoords = [coords[i][0] for i in range(n)]\n",
    "#    xcoords = [alphabet_to_num(coords[i]) for i in range(n)]\n",
    "    return [np.min(coords[0]),np.max(coords[0])]"
   ]
  },
  {
   "cell_type": "code",
   "execution_count": 37,
   "metadata": {},
   "outputs": [
    {
     "data": {
      "text/plain": [
       "[1, 7]"
      ]
     },
     "execution_count": 37,
     "metadata": {},
     "output_type": "execute_result"
    }
   ],
   "source": [
    "xlims(holds[0])"
   ]
  },
  {
   "cell_type": "code",
   "execution_count": 38,
   "metadata": {},
   "outputs": [
    {
     "name": "stdout",
     "output_type": "stream",
     "text": [
      "[[ 2  3]\n",
      " [ 1  5]\n",
      " [ 5  7]\n",
      " [ 7  8]\n",
      " [ 3 10]\n",
      " [ 4 12]\n",
      " [ 4 15]\n",
      " [ 7 15]\n",
      " [ 7 17]\n",
      " [ 7 18]]\n"
     ]
    },
    {
     "data": {
      "text/plain": [
       "[24.65247584249853, 1.0787248692981453]"
      ]
     },
     "execution_count": 38,
     "metadata": {},
     "output_type": "execute_result"
    }
   ],
   "source": [
    "minpath_length(holds[0])"
   ]
  },
  {
   "cell_type": "code",
   "execution_count": 247,
   "metadata": {},
   "outputs": [
    {
     "name": "stdout",
     "output_type": "stream",
     "text": [
      "       nholds                                            holds\n",
      "0          10   [B3, A5, G8, E7, C10, D12, D15, G15, G17, G18]\n",
      "1           7                [K5, K8, H10, B11, B15, A15, A18]\n",
      "2           7                 [F5, J5, G9, E12, J13, H16, I18]\n",
      "3           9        [D3, C5, E8, A9, E12, D11, H14, E16, E18]\n",
      "4          10    [G2, I4, F7, I8, I9, E10, F13, H14, G17, I18]\n",
      "5           8             [I4, G4, H8, F12, H14, E16, E18, E8]\n",
      "6           8             [B3, E6, C8, H8, G11, I12, E15, G18]\n",
      "7          10   [G4, B4, D6, B7, D10, I12, D13, I16, I15, H18]\n",
      "8           8           [I5, J8, E11, H14, G15, H16, E18, J10]\n",
      "9           5                          [E13, E9, F5, E14, A18]\n",
      "10          5                         [F5, E11, J12, I16, K18]\n",
      "11          7                 [I4, J6, J10, E7, F10, I13, G18]\n",
      "12          6                     [G2, E7, H11, F12, I16, G18]\n",
      "13          6                     [G2, G8, F10, K11, J14, K18]\n",
      "14          7                 [G4, G6, K9, F12, E12, B15, D18]\n",
      "15          5                         [G4, I10, H12, K14, I18]\n",
      "16          7                [C5, C7, D10, C12, G13, F15, G18]\n",
      "17          7                 [I5, H8, E10, E13, D18, B16, G7]\n",
      "18          7                 [D7, E9, D12, G14, I18, G4, F15]\n",
      "19          8            [J12, C14, J6, H5, D11, D16, E8, A18]\n",
      "20          8            [J6, H5, J10, E12, D12, A9, A15, E18]\n",
      "21         10   [D3, F6, D6, A10, D8, D13, C15, G16, C18, H18]\n",
      "22          6                     [K5, H9, D10, G14, G17, C18]\n",
      "23          6                    [F5, G10, E10, H13, E13, G18]\n",
      "24          8             [I4, G2, E6, G8, D12, H13, H16, K18]\n",
      "25          8            [D6, F6, F9, J11, I12, K13, G16, H18]\n",
      "26          7                 [D3, D6, B7, D10, D13, H14, H18]\n",
      "27          8             [D6, F6, F9, K8, I12, H14, D16, C18]\n",
      "28          7                 [D3, B4, C9, G11, D13, F15, C18]\n",
      "29          8            [H5, H8, C8, G10, F13, I18, J12, K16]\n",
      "...       ...                                              ...\n",
      "13179       5                          [F5, F8, C10, E14, C18]\n",
      "13180       6                     [J5, F9, G11, F12, I16, D18]\n",
      "13181       6                     [D5, G8, H10, D15, G13, G18]\n",
      "13182      10  [I4, B4, F7, J10, E10, F11, A14, E14, D17, G18]\n",
      "13183       8             [H5, E6, E8, A9, E12, A14, E16, I18]\n",
      "13184       6                     [K5, E7, H10, F13, G16, G18]\n",
      "13185       7                 [H5, I5, F9, E11, E13, I14, E18]\n",
      "13186       9        [C6, A5, C9, F11, G11, K13, I15, J5, I18]\n",
      "13187       6                     [I4, H8, F10, C13, E16, B18]\n",
      "13188       7               [F5, J10, H12, H13, C13, E14, C18]\n",
      "13189       8            [E6, G2, I7, H11, F14, F15, B15, C18]\n",
      "13190       7                 [G4, E6, H10, C13, B7, D15, A18]\n",
      "13191       9        [K5, J7, H8, G9, F11, G14, C15, C10, E18]\n",
      "13192       9       [F5, J5, F9, C10, F12, F13, G15, E16, D18]\n",
      "13193       8             [I4, I6, F7, G9, E11, I13, E15, E18]\n",
      "13194       9        [F5, I5, H9, F9, G11, D10, H14, F15, G18]\n",
      "13195       5                          [H5, K8, G11, H13, G18]\n",
      "13196       5                          [C5, C9, F10, F15, I18]\n",
      "13197       8             [G4, D7, H8, J7, E12, I15, D18, I18]\n",
      "13198       7                 [K5, G8, I9, E12, E14, E16, I18]\n",
      "13199      10   [C5, B6, A9, B10, G10, F13, I14, E16, I7, D18]\n",
      "13200       8             [J5, H5, E7, C8, F11, E13, A13, B18]\n",
      "13201       7                 [I5, E6, H8, E11, I13, H16, I18]\n",
      "13202       6                      [G2, I4, F7, F10, F14, E18]\n",
      "13203       8              [J5, G6, D15, J9, D11, G2, B6, A18]\n",
      "13204       6                     [J5, G10, I8, F13, D16, H18]\n",
      "13205       7                 [C5, D6, F11, C9, F14, E16, D18]\n",
      "13206       7                [K5, G6, I10, F11, H14, E15, G18]\n",
      "13207       6                     [F5, A5, C10, B12, D15, A18]\n",
      "13208       8            [H5, G6, J8, F11, E10, F15, B13, D18]\n",
      "\n",
      "[13209 rows x 2 columns]\n"
     ]
    }
   ],
   "source": [
    "df_holds_save = pd.DataFrame({'nholds':problems['NHolds'],'holds':holds},columns=['nholds','holds'])\n",
    "df_holds = pd.Series(holds)\n",
    "#c = pd.DataFrame(path,columns = ['path','std'])\n",
    "print(df_holds_save)"
   ]
  },
  {
   "cell_type": "code",
   "execution_count": 242,
   "metadata": {},
   "outputs": [],
   "source": [
    "setter = problems['Setter']"
   ]
  },
  {
   "cell_type": "code",
   "execution_count": 41,
   "metadata": {},
   "outputs": [],
   "source": [
    "name = []\n",
    "for i in range(len(problems)):\n",
    "    name.append(setter[i]['Nickname'])"
   ]
  },
  {
   "cell_type": "code",
   "execution_count": 248,
   "metadata": {},
   "outputs": [],
   "source": [
    "a = df_holds.apply(xlims)\n",
    "b = pd.DataFrame(a,columns=['lr'])\n",
    "b[['l','r']] = pd.DataFrame(b.lr.values.tolist(), index= b.index)\n",
    "b = b.drop(['lr'],axis=1)\n",
    "#b['width'] = b['r']-b['l']\n",
    "#b.head(5)"
   ]
  },
  {
   "cell_type": "code",
   "execution_count": 43,
   "metadata": {},
   "outputs": [],
   "source": [
    "b['width'] = b['r']-b['l']"
   ]
  },
  {
   "cell_type": "code",
   "execution_count": 44,
   "metadata": {},
   "outputs": [],
   "source": [
    "# generate classes for mlb!\n",
    "mlb_class = []\n",
    "for i in range(11):\n",
    "    for j in range(18):\n",
    "        mlb_class.append(chr(i+65)+'%d'%(j+1))"
   ]
  },
  {
   "cell_type": "code",
   "execution_count": 134,
   "metadata": {},
   "outputs": [],
   "source": [
    "from sklearn.preprocessing import MultiLabelBinarizer\n",
    "\n",
    "mlb = MultiLabelBinarizer(classes=mlb_class)\n",
    "df_holds_enc = pd.DataFrame(mlb.fit_transform(df_holds), columns=mlb_class)\n",
    "#df = df.join(pd.DataFrame(mlb.fit_transform(df.pop('Col3')),\n",
    "#                          columns=mlb.classes_,\n",
    "#                          index=df.index))"
   ]
  },
  {
   "cell_type": "code",
   "execution_count": 251,
   "metadata": {},
   "outputs": [],
   "source": [
    "df_names = pd.DataFrame(name,columns=['setter'])\n",
    "df_names_holds = df_names.join(df_holds_save)"
   ]
  },
  {
   "cell_type": "code",
   "execution_count": 47,
   "metadata": {},
   "outputs": [],
   "source": [
    "# feature vector: hold positions multilabel binary encoded\n",
    "df_holds_enc = df_holds_enc.join(problems['NHolds'])\n",
    "df_holds_en = df_holds_enc.join(b)\n",
    "df_holds_enc = df_holds_enc.join(path)\n",
    "df_holds_enc = df_holds_enc.join(b)\n",
    "inds = np.where(df_holds_enc['std_plength'].isna())\n",
    "df_holds_enc = df_holds_enc.dropna()"
   ]
  },
  {
   "cell_type": "code",
   "execution_count": 252,
   "metadata": {},
   "outputs": [],
   "source": [
    "#df_names_holds = df_names_holds.drop(list(inds)[0])\n",
    "df_names_holds.to_csv(\"names_holds.csv\", header=None)"
   ]
  },
  {
   "cell_type": "code",
   "execution_count": 49,
   "metadata": {},
   "outputs": [
    {
     "data": {
      "text/html": [
       "<div>\n",
       "<style scoped>\n",
       "    .dataframe tbody tr th:only-of-type {\n",
       "        vertical-align: middle;\n",
       "    }\n",
       "\n",
       "    .dataframe tbody tr th {\n",
       "        vertical-align: top;\n",
       "    }\n",
       "\n",
       "    .dataframe thead th {\n",
       "        text-align: right;\n",
       "    }\n",
       "</style>\n",
       "<table border=\"1\" class=\"dataframe\">\n",
       "  <thead>\n",
       "    <tr style=\"text-align: right;\">\n",
       "      <th></th>\n",
       "      <th>A1</th>\n",
       "      <th>A2</th>\n",
       "      <th>A3</th>\n",
       "      <th>A4</th>\n",
       "      <th>A5</th>\n",
       "      <th>A6</th>\n",
       "      <th>A7</th>\n",
       "      <th>A8</th>\n",
       "      <th>A9</th>\n",
       "      <th>A10</th>\n",
       "      <th>...</th>\n",
       "      <th>K15</th>\n",
       "      <th>K16</th>\n",
       "      <th>K17</th>\n",
       "      <th>K18</th>\n",
       "      <th>NHolds</th>\n",
       "      <th>plength</th>\n",
       "      <th>std_plength</th>\n",
       "      <th>l</th>\n",
       "      <th>r</th>\n",
       "      <th>width</th>\n",
       "    </tr>\n",
       "  </thead>\n",
       "  <tbody>\n",
       "    <tr>\n",
       "      <th>0</th>\n",
       "      <td>0</td>\n",
       "      <td>0</td>\n",
       "      <td>0</td>\n",
       "      <td>0</td>\n",
       "      <td>1</td>\n",
       "      <td>0</td>\n",
       "      <td>0</td>\n",
       "      <td>0</td>\n",
       "      <td>0</td>\n",
       "      <td>0</td>\n",
       "      <td>...</td>\n",
       "      <td>0</td>\n",
       "      <td>0</td>\n",
       "      <td>0</td>\n",
       "      <td>0</td>\n",
       "      <td>10</td>\n",
       "      <td>22.554044</td>\n",
       "      <td>1.154577</td>\n",
       "      <td>1</td>\n",
       "      <td>7</td>\n",
       "      <td>6</td>\n",
       "    </tr>\n",
       "    <tr>\n",
       "      <th>1</th>\n",
       "      <td>0</td>\n",
       "      <td>0</td>\n",
       "      <td>0</td>\n",
       "      <td>0</td>\n",
       "      <td>0</td>\n",
       "      <td>0</td>\n",
       "      <td>0</td>\n",
       "      <td>0</td>\n",
       "      <td>0</td>\n",
       "      <td>0</td>\n",
       "      <td>...</td>\n",
       "      <td>0</td>\n",
       "      <td>0</td>\n",
       "      <td>0</td>\n",
       "      <td>0</td>\n",
       "      <td>7</td>\n",
       "      <td>20.688314</td>\n",
       "      <td>1.509173</td>\n",
       "      <td>1</td>\n",
       "      <td>11</td>\n",
       "      <td>10</td>\n",
       "    </tr>\n",
       "    <tr>\n",
       "      <th>2</th>\n",
       "      <td>0</td>\n",
       "      <td>0</td>\n",
       "      <td>0</td>\n",
       "      <td>0</td>\n",
       "      <td>0</td>\n",
       "      <td>0</td>\n",
       "      <td>0</td>\n",
       "      <td>0</td>\n",
       "      <td>0</td>\n",
       "      <td>0</td>\n",
       "      <td>...</td>\n",
       "      <td>0</td>\n",
       "      <td>0</td>\n",
       "      <td>0</td>\n",
       "      <td>0</td>\n",
       "      <td>7</td>\n",
       "      <td>23.546190</td>\n",
       "      <td>0.965760</td>\n",
       "      <td>5</td>\n",
       "      <td>10</td>\n",
       "      <td>5</td>\n",
       "    </tr>\n",
       "    <tr>\n",
       "      <th>3</th>\n",
       "      <td>0</td>\n",
       "      <td>0</td>\n",
       "      <td>0</td>\n",
       "      <td>0</td>\n",
       "      <td>0</td>\n",
       "      <td>0</td>\n",
       "      <td>0</td>\n",
       "      <td>0</td>\n",
       "      <td>1</td>\n",
       "      <td>0</td>\n",
       "      <td>...</td>\n",
       "      <td>0</td>\n",
       "      <td>0</td>\n",
       "      <td>0</td>\n",
       "      <td>0</td>\n",
       "      <td>9</td>\n",
       "      <td>22.625975</td>\n",
       "      <td>1.008285</td>\n",
       "      <td>1</td>\n",
       "      <td>8</td>\n",
       "      <td>7</td>\n",
       "    </tr>\n",
       "    <tr>\n",
       "      <th>4</th>\n",
       "      <td>0</td>\n",
       "      <td>0</td>\n",
       "      <td>0</td>\n",
       "      <td>0</td>\n",
       "      <td>0</td>\n",
       "      <td>0</td>\n",
       "      <td>0</td>\n",
       "      <td>0</td>\n",
       "      <td>0</td>\n",
       "      <td>0</td>\n",
       "      <td>...</td>\n",
       "      <td>0</td>\n",
       "      <td>0</td>\n",
       "      <td>0</td>\n",
       "      <td>0</td>\n",
       "      <td>10</td>\n",
       "      <td>23.554211</td>\n",
       "      <td>1.039825</td>\n",
       "      <td>5</td>\n",
       "      <td>9</td>\n",
       "      <td>4</td>\n",
       "    </tr>\n",
       "  </tbody>\n",
       "</table>\n",
       "<p>5 rows × 204 columns</p>\n",
       "</div>"
      ],
      "text/plain": [
       "   A1  A2  A3  A4  A5  A6  A7  A8  A9  A10  ...    K15  K16  K17  K18  NHolds  \\\n",
       "0   0   0   0   0   1   0   0   0   0    0  ...      0    0    0    0      10   \n",
       "1   0   0   0   0   0   0   0   0   0    0  ...      0    0    0    0       7   \n",
       "2   0   0   0   0   0   0   0   0   0    0  ...      0    0    0    0       7   \n",
       "3   0   0   0   0   0   0   0   0   1    0  ...      0    0    0    0       9   \n",
       "4   0   0   0   0   0   0   0   0   0    0  ...      0    0    0    0      10   \n",
       "\n",
       "     plength  std_plength  l   r  width  \n",
       "0  22.554044     1.154577  1   7      6  \n",
       "1  20.688314     1.509173  1  11     10  \n",
       "2  23.546190     0.965760  5  10      5  \n",
       "3  22.625975     1.008285  1   8      7  \n",
       "4  23.554211     1.039825  5   9      4  \n",
       "\n",
       "[5 rows x 204 columns]"
      ]
     },
     "execution_count": 49,
     "metadata": {},
     "output_type": "execute_result"
    }
   ],
   "source": [
    "df_holds_enc.head(5)"
   ]
  },
  {
   "cell_type": "code",
   "execution_count": 50,
   "metadata": {},
   "outputs": [
    {
     "data": {
      "text/plain": [
       "13208"
      ]
     },
     "execution_count": 50,
     "metadata": {},
     "output_type": "execute_result"
    }
   ],
   "source": [
    "df_holds_enc['std_plength'].isnull().sum()\n",
    "len(df_holds_enc)"
   ]
  },
  {
   "cell_type": "code",
   "execution_count": 51,
   "metadata": {},
   "outputs": [
    {
     "name": "stdout",
     "output_type": "stream",
     "text": [
      "[11316]\n"
     ]
    }
   ],
   "source": [
    "print(list(inds)[0])"
   ]
  },
  {
   "cell_type": "code",
   "execution_count": 52,
   "metadata": {},
   "outputs": [],
   "source": [
    "# add width of problems (max(x)-min(x)) to the features\n",
    "# leftmost hold"
   ]
  },
  {
   "cell_type": "code",
   "execution_count": 53,
   "metadata": {},
   "outputs": [],
   "source": [
    "labels = problems['Grade']"
   ]
  },
  {
   "cell_type": "code",
   "execution_count": 54,
   "metadata": {},
   "outputs": [
    {
     "name": "stdout",
     "output_type": "stream",
     "text": [
      "13208\n"
     ]
    }
   ],
   "source": [
    "v_labels = problems.replace({'Grade': grade_conversion})['Grade']\n",
    "v_label = problems.replace({'Grade': grade_conversion})['Grade']\n",
    "v_labels = v_labels.drop(list(inds)[0])\n",
    "print(len(v_labels))"
   ]
  },
  {
   "cell_type": "code",
   "execution_count": 55,
   "metadata": {},
   "outputs": [
    {
     "data": {
      "text/plain": [
       "Text(0.5,0,'V grade')"
      ]
     },
     "execution_count": 55,
     "metadata": {},
     "output_type": "execute_result"
    },
    {
     "data": {
      "image/png": "[encoded data removed]",
      "text/plain": [
       "<Figure size 432x288 with 1 Axes>"
      ]
     },
     "metadata": {
      "needs_background": "light"
     },
     "output_type": "display_data"
    }
   ],
   "source": [
    "plt.hist(v_labels,bins= range(min(v_labels),max(v_labels)+2),density=True)\n",
    "plt.title('Train label distribution')\n",
    "plt.xlabel('V grade')\n",
    "# IF the classifier classifies everything to 5, the accuracy will be 35%"
   ]
  },
  {
   "cell_type": "code",
   "execution_count": 56,
   "metadata": {},
   "outputs": [
    {
     "name": "stdout",
     "output_type": "stream",
     "text": [
      "0     7A\n",
      "1    7A+\n",
      "2    6C+\n",
      "3    6C+\n",
      "4    6C+\n",
      "Name: Grade, dtype: object\n",
      "0    6\n",
      "1    7\n",
      "2    5\n",
      "3    5\n",
      "4    5\n",
      "Name: Grade, dtype: int64\n",
      "5 9\n"
     ]
    }
   ],
   "source": [
    "print(labels.head(5))\n",
    "print(v_labels.head(5))\n",
    "print(min(v_labels),max(v_labels))"
   ]
  },
  {
   "cell_type": "code",
   "execution_count": 57,
   "metadata": {},
   "outputs": [],
   "source": [
    "# Using Skicit-learn to split data into training and testing sets\n",
    "from sklearn.model_selection import train_test_split\n",
    "# Split the data into training and testing sets\n",
    "train_features, test_features, train_labels, test_labels = train_test_split(df_holds_enc, v_labels, test_size = 0.25, random_state = 42)"
   ]
  },
  {
   "cell_type": "code",
   "execution_count": 58,
   "metadata": {},
   "outputs": [
    {
     "name": "stdout",
     "output_type": "stream",
     "text": [
      "Training Features Shape: (9906, 204)\n",
      "Training Labels Shape: (9906,)\n",
      "Testing Features Shape: (3302, 204)\n",
      "Testing Labels Shape: (3302,)\n"
     ]
    }
   ],
   "source": [
    "print('Training Features Shape:', train_features.shape)\n",
    "print('Training Labels Shape:', train_labels.shape)\n",
    "print('Testing Features Shape:', test_features.shape)\n",
    "print('Testing Labels Shape:', test_labels.shape)"
   ]
  },
  {
   "cell_type": "code",
   "execution_count": 59,
   "metadata": {},
   "outputs": [
    {
     "name": "stdout",
     "output_type": "stream",
     "text": [
      "       A1  A2  A3  A4  A5  A6  A7  A8  A9  A10  ...    K15  K16  K17  K18  \\\n",
      "10690   0   0   0   0   0   0   0   0   0    0  ...      0    0    0    0   \n",
      "568     0   0   0   0   0   0   0   0   0    0  ...      0    0    0    0   \n",
      "11322   0   0   0   0   0   0   0   0   0    0  ...      0    0    0    0   \n",
      "12904   0   0   0   0   0   0   0   0   0    0  ...      0    0    0    0   \n",
      "11311   0   0   0   0   0   0   0   0   0    0  ...      0    0    0    0   \n",
      "\n",
      "       NHolds    plength  std_plength  l   r  width  \n",
      "10690       4  15.165125     0.668248  5  10      5  \n",
      "568         9  34.272440     1.377270  1  10      9  \n",
      "11322       9  20.068392     0.457581  2  11      9  \n",
      "12904       6  16.349190     0.952974  5   9      4  \n",
      "11311       6  19.204297     1.431013  3   8      5  \n",
      "\n",
      "[5 rows x 204 columns]\n"
     ]
    }
   ],
   "source": [
    "print(train_features.head(5))"
   ]
  },
  {
   "cell_type": "code",
   "execution_count": 60,
   "metadata": {},
   "outputs": [],
   "source": [
    "from sklearn.metrics import precision_score"
   ]
  },
  {
   "cell_type": "code",
   "execution_count": 61,
   "metadata": {},
   "outputs": [
    {
     "name": "stderr",
     "output_type": "stream",
     "text": [
      "/home/ijee/anaconda3/envs/insight/lib/python3.6/site-packages/sklearn/ensemble/weight_boosting.py:29: DeprecationWarning: numpy.core.umath_tests is an internal NumPy module and should not be imported. It will be removed in a future NumPy release.\n",
      "  from numpy.core.umath_tests import inner1d\n"
     ]
    },
    {
     "data": {
      "text/plain": [
       "RandomForestClassifier(bootstrap=True, class_weight=None, criterion='gini',\n",
       "            max_depth=40, max_features='auto', max_leaf_nodes=None,\n",
       "            min_impurity_decrease=0.0, min_impurity_split=None,\n",
       "            min_samples_leaf=1, min_samples_split=2,\n",
       "            min_weight_fraction_leaf=0.0, n_estimators=100, n_jobs=1,\n",
       "            oob_score=False, random_state=42, verbose=0, warm_start=False)"
      ]
     },
     "execution_count": 61,
     "metadata": {},
     "output_type": "execute_result"
    }
   ],
   "source": [
    "# Import the model we are using\n",
    "from sklearn.ensemble import RandomForestClassifier\n",
    "# Instantiate model with 1000 decision trees\n",
    "rf = RandomForestClassifier(n_estimators = 100, max_depth = 40, random_state = 42)\n",
    "# Train the model on training data\n",
    "rf.fit(train_features, train_labels)"
   ]
  },
  {
   "cell_type": "code",
   "execution_count": 62,
   "metadata": {},
   "outputs": [
    {
     "name": "stdout",
     "output_type": "stream",
     "text": [
      "0.4551786795881284\n",
      "[0.52604957 0.23602484 0.32905983 0.34813084 0.47214076]\n"
     ]
    }
   ],
   "source": [
    "predictions = rf.predict(test_features)\n",
    "print(rf.score(test_features, test_labels))\n",
    "print(precision_score(test_labels, predictions, average=None))"
   ]
  },
  {
   "cell_type": "code",
   "execution_count": 63,
   "metadata": {},
   "outputs": [],
   "source": [
    "#df = df_holds_enc.join(v_labels)"
   ]
  },
  {
   "cell_type": "code",
   "execution_count": 64,
   "metadata": {},
   "outputs": [],
   "source": [
    "#df.tail(5)"
   ]
  },
  {
   "cell_type": "code",
   "execution_count": 65,
   "metadata": {},
   "outputs": [],
   "source": [
    "#col_list = df.columns.values.tolist()\n",
    "#covtype_X = col_list[:-1]    \n",
    "#covtype_y = col_list[-1]"
   ]
  },
  {
   "cell_type": "code",
   "execution_count": 66,
   "metadata": {},
   "outputs": [],
   "source": [
    "#import h2o\n",
    "#from h2o.estimators import H2ORandomForestEstimator"
   ]
  },
  {
   "cell_type": "code",
   "execution_count": 67,
   "metadata": {},
   "outputs": [],
   "source": [
    "#h2o.init()"
   ]
  },
  {
   "cell_type": "code",
   "execution_count": 68,
   "metadata": {},
   "outputs": [],
   "source": [
    "#hf = h2o.H2OFrame(df)"
   ]
  },
  {
   "cell_type": "code",
   "execution_count": 69,
   "metadata": {},
   "outputs": [],
   "source": [
    "#train, valid, test = hf.split_frame([0.6, 0.2], seed=1234)"
   ]
  },
  {
   "cell_type": "code",
   "execution_count": 70,
   "metadata": {},
   "outputs": [],
   "source": [
    "#print(test['Grade'])\n",
    "#test[\"Grade\"] = test[\"Grade\"].asfactor()\n",
    "#train[\"Grade\"] = train[\"Grade\"].asfactor()\n",
    "#valid[\"Grade\"] = valid[\"Grade\"].asfactor()"
   ]
  },
  {
   "cell_type": "code",
   "execution_count": 71,
   "metadata": {},
   "outputs": [],
   "source": [
    "#model = H2ORandomForestEstimator(ntrees=100, max_depth=100, nfolds=10, model_id = 'model',balance_classes=False)\n",
    "\n",
    "# Train model\n",
    "#model.train(covtype_X, covtype_y, training_frame = train, validation_frame=valid)"
   ]
  },
  {
   "cell_type": "code",
   "execution_count": 72,
   "metadata": {},
   "outputs": [],
   "source": [
    "#model_path = h2o.save_model(model=model, force=True)"
   ]
  },
  {
   "cell_type": "code",
   "execution_count": 73,
   "metadata": {},
   "outputs": [],
   "source": [
    "#print(model_path)"
   ]
  },
  {
   "cell_type": "code",
   "execution_count": 74,
   "metadata": {},
   "outputs": [],
   "source": [
    "#print(model.score_history())"
   ]
  },
  {
   "cell_type": "code",
   "execution_count": 75,
   "metadata": {},
   "outputs": [],
   "source": [
    "#perf = model.model_performance(test)"
   ]
  },
  {
   "cell_type": "code",
   "execution_count": 76,
   "metadata": {},
   "outputs": [],
   "source": [
    "#importance = model.varimp(True)"
   ]
  },
  {
   "cell_type": "code",
   "execution_count": 77,
   "metadata": {},
   "outputs": [],
   "source": [
    "#print(importance)"
   ]
  },
  {
   "cell_type": "code",
   "execution_count": 78,
   "metadata": {},
   "outputs": [],
   "source": [
    "#print(model)"
   ]
  },
  {
   "cell_type": "code",
   "execution_count": 79,
   "metadata": {},
   "outputs": [],
   "source": [
    "#print(perf)"
   ]
  },
  {
   "cell_type": "code",
   "execution_count": 80,
   "metadata": {},
   "outputs": [],
   "source": [
    "#final_rf_predictions = model.predict(test[:-1])"
   ]
  },
  {
   "cell_type": "code",
   "execution_count": 81,
   "metadata": {},
   "outputs": [],
   "source": [
    "#print(final_rf_predictions)"
   ]
  },
  {
   "cell_type": "code",
   "execution_count": 82,
   "metadata": {},
   "outputs": [],
   "source": [
    "#tlabel = test['Grade'].as_data_frame().as_matrix().reshape(len(test))\n",
    "#pred = final_rf_predictions['predict'].as_data_frame().as_matrix().reshape(len(test))\n",
    "#tst = pred-tlabel\n",
    "#print(tst)\n",
    "#binwidth=1\n",
    "#plt.hist(tst,bins=range(min(tst),max(tst),binwidth),density=True)\n",
    "#plt.xlabel('prediction-label')\n",
    "#plt.ylabel('fraction')\n",
    "#print((len(tst)-np.count_nonzero(tst))/len(tst))\n",
    "# 38% accuracy (exact classification)\n",
    "# Classifier tend to classify problems easier than it actually is: prob because not many hard problems exist"
   ]
  },
  {
   "cell_type": "code",
   "execution_count": 83,
   "metadata": {},
   "outputs": [],
   "source": [
    "features_name = train_features.columns.values.tolist()"
   ]
  },
  {
   "cell_type": "code",
   "execution_count": 84,
   "metadata": {},
   "outputs": [
    {
     "name": "stdout",
     "output_type": "stream",
     "text": [
      "Feature ranking:\n",
      "1. feature 200 (0.073265)\n",
      "2. feature 199 (0.068089)\n",
      "3. feature 198 (0.045428)\n",
      "4. feature 203 (0.036925)\n",
      "5. feature 201 (0.029676)\n",
      "6. feature 202 (0.027394)\n",
      "7. feature 94 (0.013556)\n",
      "8. feature 135 (0.010636)\n",
      "9. feature 109 (0.010262)\n",
      "10. feature 71 (0.010063)\n",
      "11. feature 79 (0.009876)\n",
      "12. feature 125 (0.009663)\n",
      "13. feature 89 (0.009430)\n",
      "14. feature 86 (0.009403)\n",
      "15. feature 161 (0.008728)\n",
      "16. feature 84 (0.008339)\n",
      "17. feature 99 (0.008221)\n",
      "18. feature 111 (0.008092)\n",
      "19. feature 130 (0.008074)\n",
      "20. feature 83 (0.007886)\n",
      "21. feature 48 (0.007816)\n",
      "22. feature 104 (0.007745)\n",
      "23. feature 56 (0.007672)\n",
      "24. feature 85 (0.007570)\n",
      "25. feature 100 (0.007338)\n",
      "26. feature 116 (0.007187)\n",
      "27. feature 166 (0.007186)\n",
      "28. feature 87 (0.007168)\n",
      "29. feature 133 (0.007081)\n",
      "30. feature 63 (0.007036)\n",
      "31. feature 103 (0.007010)\n",
      "32. feature 157 (0.006997)\n",
      "33. feature 184 (0.006955)\n",
      "34. feature 102 (0.006942)\n",
      "35. feature 139 (0.006920)\n",
      "36. feature 77 (0.006919)\n",
      "37. feature 68 (0.006918)\n",
      "38. feature 143 (0.006849)\n",
      "39. feature 121 (0.006837)\n",
      "40. feature 81 (0.006832)\n",
      "41. feature 197 (0.006798)\n",
      "42. feature 136 (0.006743)\n",
      "43. feature 20 (0.006724)\n",
      "44. feature 141 (0.006578)\n",
      "45. feature 53 (0.006573)\n",
      "46. feature 40 (0.006569)\n",
      "47. feature 169 (0.006557)\n",
      "48. feature 120 (0.006530)\n",
      "49. feature 147 (0.006513)\n",
      "50. feature 122 (0.006414)\n",
      "51. feature 115 (0.006406)\n",
      "52. feature 148 (0.006398)\n",
      "53. feature 80 (0.006364)\n",
      "54. feature 163 (0.006275)\n",
      "55. feature 137 (0.006195)\n",
      "56. feature 134 (0.006117)\n",
      "57. feature 21 (0.006018)\n",
      "58. feature 45 (0.005944)\n",
      "59. feature 4 (0.005934)\n",
      "60. feature 59 (0.005846)\n",
      "61. feature 101 (0.005808)\n",
      "62. feature 17 (0.005808)\n",
      "63. feature 113 (0.005807)\n",
      "64. feature 98 (0.005536)\n",
      "65. feature 78 (0.005494)\n",
      "66. feature 42 (0.005486)\n",
      "67. feature 58 (0.005445)\n",
      "68. feature 124 (0.005438)\n",
      "69. feature 96 (0.005411)\n",
      "70. feature 118 (0.005403)\n",
      "71. feature 69 (0.005378)\n",
      "72. feature 43 (0.005353)\n",
      "73. feature 155 (0.005310)\n",
      "74. feature 50 (0.005268)\n",
      "75. feature 153 (0.005079)\n",
      "76. feature 82 (0.004963)\n",
      "77. feature 114 (0.004882)\n",
      "78. feature 64 (0.004858)\n",
      "79. feature 95 (0.004804)\n",
      "80. feature 152 (0.004782)\n",
      "81. feature 66 (0.004738)\n",
      "82. feature 35 (0.004680)\n",
      "83. feature 171 (0.004657)\n",
      "84. feature 33 (0.004397)\n",
      "85. feature 158 (0.004382)\n",
      "86. feature 123 (0.004329)\n",
      "87. feature 159 (0.004324)\n",
      "88. feature 47 (0.004262)\n",
      "89. feature 44 (0.004251)\n",
      "90. feature 149 (0.004244)\n",
      "91. feature 28 (0.004239)\n",
      "92. feature 23 (0.004223)\n",
      "93. feature 65 (0.004193)\n",
      "94. feature 117 (0.004178)\n",
      "95. feature 156 (0.004131)\n",
      "96. feature 138 (0.004102)\n",
      "97. feature 49 (0.004017)\n",
      "98. feature 61 (0.003963)\n",
      "99. feature 25 (0.003911)\n",
      "100. feature 27 (0.003901)\n",
      "101. feature 97 (0.003862)\n",
      "102. feature 187 (0.003856)\n",
      "103. feature 8 (0.003818)\n",
      "104. feature 67 (0.003762)\n",
      "105. feature 62 (0.003631)\n",
      "106. feature 13 (0.003569)\n",
      "107. feature 170 (0.003540)\n",
      "108. feature 105 (0.003508)\n",
      "109. feature 151 (0.003470)\n",
      "110. feature 140 (0.003452)\n",
      "111. feature 154 (0.003338)\n",
      "112. feature 188 (0.003333)\n",
      "113. feature 70 (0.003310)\n",
      "114. feature 26 (0.003236)\n",
      "115. feature 174 (0.003172)\n",
      "116. feature 32 (0.003154)\n",
      "117. feature 185 (0.003095)\n",
      "118. feature 173 (0.003034)\n",
      "119. feature 186 (0.002977)\n",
      "120. feature 190 (0.002912)\n",
      "121. feature 46 (0.002882)\n",
      "122. feature 175 (0.002833)\n",
      "123. feature 132 (0.002803)\n",
      "124. feature 193 (0.002740)\n",
      "125. feature 30 (0.002733)\n",
      "126. feature 119 (0.002718)\n",
      "127. feature 24 (0.002684)\n",
      "128. feature 60 (0.002659)\n",
      "129. feature 177 (0.002657)\n",
      "130. feature 168 (0.002651)\n",
      "131. feature 189 (0.002547)\n",
      "132. feature 29 (0.002455)\n",
      "133. feature 172 (0.002363)\n",
      "134. feature 150 (0.002257)\n",
      "135. feature 11 (0.002193)\n",
      "136. feature 9 (0.002135)\n",
      "137. feature 12 (0.001920)\n",
      "138. feature 41 (0.001846)\n",
      "139. feature 10 (0.001814)\n",
      "140. feature 195 (0.001780)\n",
      "141. feature 15 (0.001763)\n",
      "142. feature 51 (0.001753)\n",
      "143. feature 191 (0.001573)\n",
      "144. feature 167 (0.001466)\n",
      "145. feature 192 (0.001219)\n",
      "146. feature 14 (0.000609)\n",
      "147. feature 5 (0.000000)\n",
      "148. feature 22 (0.000000)\n",
      "149. feature 1 (0.000000)\n",
      "150. feature 2 (0.000000)\n",
      "151. feature 31 (0.000000)\n",
      "152. feature 3 (0.000000)\n",
      "153. feature 196 (0.000000)\n",
      "154. feature 38 (0.000000)\n",
      "155. feature 6 (0.000000)\n",
      "156. feature 7 (0.000000)\n",
      "157. feature 37 (0.000000)\n",
      "158. feature 36 (0.000000)\n",
      "159. feature 194 (0.000000)\n",
      "160. feature 34 (0.000000)\n",
      "161. feature 39 (0.000000)\n",
      "162. feature 18 (0.000000)\n",
      "163. feature 16 (0.000000)\n",
      "164. feature 19 (0.000000)\n",
      "165. feature 142 (0.000000)\n",
      "166. feature 52 (0.000000)\n",
      "167. feature 112 (0.000000)\n",
      "168. feature 165 (0.000000)\n",
      "169. feature 106 (0.000000)\n",
      "170. feature 107 (0.000000)\n",
      "171. feature 108 (0.000000)\n",
      "172. feature 164 (0.000000)\n",
      "173. feature 110 (0.000000)\n",
      "174. feature 162 (0.000000)\n",
      "175. feature 160 (0.000000)\n",
      "176. feature 92 (0.000000)\n",
      "177. feature 126 (0.000000)\n",
      "178. feature 127 (0.000000)\n",
      "179. feature 128 (0.000000)\n",
      "180. feature 129 (0.000000)\n",
      "181. feature 131 (0.000000)\n",
      "182. feature 146 (0.000000)\n",
      "183. feature 145 (0.000000)\n",
      "184. feature 93 (0.000000)\n",
      "185. feature 91 (0.000000)\n",
      "186. feature 54 (0.000000)\n",
      "187. feature 76 (0.000000)\n",
      "188. feature 55 (0.000000)\n",
      "189. feature 57 (0.000000)\n",
      "190. feature 144 (0.000000)\n",
      "191. feature 72 (0.000000)\n",
      "192. feature 73 (0.000000)\n",
      "193. feature 74 (0.000000)\n",
      "194. feature 75 (0.000000)\n",
      "195. feature 183 (0.000000)\n",
      "196. feature 90 (0.000000)\n",
      "197. feature 182 (0.000000)\n",
      "198. feature 181 (0.000000)\n",
      "199. feature 180 (0.000000)\n",
      "200. feature 179 (0.000000)\n",
      "201. feature 178 (0.000000)\n",
      "202. feature 176 (0.000000)\n",
      "203. feature 88 (0.000000)\n",
      "204. feature 0 (0.000000)\n",
      "('std_plength', 'plength', 'NHolds', 'width', 'l')\n"
     ]
    },
    {
     "data": {
      "image/png": "[encoded data removed]",
      "text/plain": [
       "<Figure size 432x288 with 1 Axes>"
      ]
     },
     "metadata": {
      "needs_background": "light"
     },
     "output_type": "display_data"
    }
   ],
   "source": [
    "# let's plot feature importances\n",
    "importances = rf.feature_importances_\n",
    "std = np.std([tree.feature_importances_ for tree in rf.estimators_],\n",
    "             axis=0)\n",
    "indices = np.argsort(importances)[::-1]\n",
    "top4_indices = indices[:5]\n",
    "# Print the feature ranking\n",
    "print(\"Feature ranking:\")\n",
    "\n",
    "for f in range(train_features.shape[1]):\n",
    "    print(\"%d. feature %d (%f)\" % (f + 1, indices[f], importances[indices[f]]))\n",
    "lbl = tuple([features_name[top4_indices[i]] for i in range(5)])\n",
    "print(lbl)\n",
    "# Plot the feature importances of the forest\n",
    "#plt.bar(range(train_features.shape[1]), importances[indices],\n",
    "#       color=\"r\", yerr=std[indices], align=\"center\")\n",
    "#plt.title(\"Feature importances\")\n",
    "#plt.xticks(range(train_features.shape[1]), indices)\n",
    "#plt.xlim([-1, train_features.shape[1]])\n",
    "# Plot the feature importances of the forest\n",
    "plt.bar(range(5), importances[top4_indices],\n",
    "       color=\"r\", yerr=std[top4_indices], align=\"center\")\n",
    "plt.title(\"Feature importances\")\n",
    "plt.xticks(range(5), lbl)\n",
    "plt.xlim([-1, 5])\n",
    "plt.show()"
   ]
  },
  {
   "cell_type": "code",
   "execution_count": 85,
   "metadata": {},
   "outputs": [],
   "source": [
    "pred_probability = rf.predict_proba(test_features)"
   ]
  },
  {
   "cell_type": "code",
   "execution_count": 86,
   "metadata": {},
   "outputs": [],
   "source": [
    "# save the model to disk\n",
    "filename = 'RF_model.pickle'\n",
    "pickle.dump(rf, open(filename, 'wb'),-1)"
   ]
  },
  {
   "cell_type": "code",
   "execution_count": 88,
   "metadata": {},
   "outputs": [],
   "source": [
    "# save the model to disk\n",
    "#filename = 'RF_model_dep40.pickle'\n",
    "#pickle.dump(rf_min, open(filename, 'wb'),-1)"
   ]
  },
  {
   "cell_type": "code",
   "execution_count": 94,
   "metadata": {},
   "outputs": [
    {
     "data": {
      "text/plain": [
       "Text(0.5,1,'Real Grade : 7')"
      ]
     },
     "execution_count": 94,
     "metadata": {},
     "output_type": "execute_result"
    },
    {
     "data": {
      "image/png": "[encoded data removed]",
      "text/plain": [
       "<Figure size 432x288 with 1 Axes>"
      ]
     },
     "metadata": {
      "needs_background": "light"
     },
     "output_type": "display_data"
    }
   ],
   "source": [
    "#import matplotlib.pyplot as plt\n",
    "prob_num = 63\n",
    "real_grade = np.array(test_labels)\n",
    "plt.plot(range(min(v_labels),max(v_labels)+1),pred_probability[prob_num])\n",
    "plt.xlabel('Predicted Grade')\n",
    "plt.ylabel('Probability')\n",
    "plt.title('Real Grade : %d'%(real_grade[prob_num]))\n",
    "# plot probability distribution of each predictions\n",
    "# 45 is an example of good classification\n",
    "# 90 has two peaks... \n",
    "# ways to quantify this? difference between two peaks should be more than 0.3?\n",
    "# what about more wide distribution?"
   ]
  },
  {
   "cell_type": "code",
   "execution_count": 90,
   "metadata": {},
   "outputs": [
    {
     "name": "stdout",
     "output_type": "stream",
     "text": [
      "Mean Absolute Error: 0.93 degrees.\n"
     ]
    }
   ],
   "source": [
    "# Use the forest's predict method on the test data\n",
    "predictions = rf.predict(test_features)\n",
    "# Calculate the absolute errors\n",
    "errors = abs(predictions - test_labels)\n",
    "# Print out the mean absolute error (mae)\n",
    "print('Mean Absolute Error:', round(np.mean(errors), 2), 'degrees.')"
   ]
  },
  {
   "cell_type": "code",
   "execution_count": 92,
   "metadata": {},
   "outputs": [
    {
     "data": {
      "text/plain": [
       "Text(0.5,0,'V grade')"
      ]
     },
     "execution_count": 92,
     "metadata": {},
     "output_type": "execute_result"
    },
    {
     "data": {
      "image/png": "[encoded data removed]",
      "text/plain": [
       "<Figure size 432x288 with 1 Axes>"
      ]
     },
     "metadata": {
      "needs_background": "light"
     },
     "output_type": "display_data"
    }
   ],
   "source": [
    "plt.hist(test_labels, bins= range(min(v_labels),max(v_labels)+2), density=True, histtype='step',label='Real')\n",
    "plt.hist(predictions, bins= range(min(v_labels),max(v_labels)+2), density=True, histtype='step',label='Predicted')\n",
    "plt.title('Test label distribution')\n",
    "plt.legend(loc='upper right')\n",
    "plt.xlabel('V grade')"
   ]
  },
  {
   "cell_type": "code",
   "execution_count": 96,
   "metadata": {},
   "outputs": [
    {
     "name": "stdout",
     "output_type": "stream",
     "text": [
      "[9 5 5 ... 5 7 7]\n"
     ]
    }
   ],
   "source": [
    "print(predictions)"
   ]
  },
  {
   "cell_type": "code",
   "execution_count": 98,
   "metadata": {},
   "outputs": [
    {
     "name": "stdout",
     "output_type": "stream",
     "text": [
      "[ 0 -1 -3 ... -2  1  1]\n",
      "0.4551786795881284\n"
     ]
    },
    {
     "data": {
      "image/png": "[encoded data removed]",
      "text/plain": [
       "<Figure size 432x288 with 1 Axes>"
      ]
     },
     "metadata": {
      "needs_background": "light"
     },
     "output_type": "display_data"
    }
   ],
   "source": [
    "pred = np.array(predictions)\n",
    "tlabel = np.array(test_labels)\n",
    "tst = pred-tlabel\n",
    "print(tst)\n",
    "binwidth=1\n",
    "plt.hist(tst,bins=range(min(tst),max(tst),binwidth),density=True)\n",
    "plt.xlabel('prediction-label')\n",
    "plt.ylabel('fraction')\n",
    "print((len(tst)-np.count_nonzero(tst))/len(tst))\n",
    "# 38% accuracy (exact classification)\n",
    "# Classifier tend to classify problems easier than it actually is: prob because not many hard problems exist"
   ]
  },
  {
   "cell_type": "code",
   "execution_count": 99,
   "metadata": {},
   "outputs": [
    {
     "name": "stdout",
     "output_type": "stream",
     "text": [
      "Accuracy: 105.09 %.\n"
     ]
    }
   ],
   "source": [
    "# Calculate mean absolute percentage error (MAPE)\n",
    "mape = 100 * (tst/ test_labels)\n",
    "# Calculate and display accuracy\n",
    "accuracy = 100 - np.mean(mape)\n",
    "print('Accuracy:', round(accuracy, 2), '%.')\n",
    "# by removing 6A+, the accuracy improves from 76 to 78%\n",
    "# by adding length, 78 to 79%\n",
    "# RFclassifier -> 80.3%\n",
    "# why was the stanford group's accuracy so low? -> because they only looked at rate at which \n",
    "# they actually got the label correct\n",
    "# LET'S IMPLEMENT IMBALANCE LEARNING"
   ]
  },
  {
   "cell_type": "code",
   "execution_count": 100,
   "metadata": {},
   "outputs": [
    {
     "name": "stdout",
     "output_type": "stream",
     "text": [
      "[(5, 3511), (6, 3511), (7, 3511), (8, 3511), (9, 3511)]\n"
     ]
    }
   ],
   "source": [
    "from imblearn.over_sampling import RandomOverSampler\n",
    "ros = RandomOverSampler(random_state=0)\n",
    "X_resampled, y_resampled = ros.fit_sample(train_features, train_labels)\n",
    "from collections import Counter\n",
    "print(sorted(Counter(y_resampled).items()))"
   ]
  },
  {
   "cell_type": "code",
   "execution_count": 101,
   "metadata": {},
   "outputs": [
    {
     "name": "stdout",
     "output_type": "stream",
     "text": [
      "[(5, 1188), (6, 1188), (7, 1188), (8, 1188), (9, 1188)]\n"
     ]
    }
   ],
   "source": [
    "from imblearn.under_sampling import RandomUnderSampler\n",
    "ros = RandomUnderSampler(random_state=0)\n",
    "X_resampled, y_resampled = ros.fit_sample(train_features, train_labels)\n",
    "from collections import Counter\n",
    "print(sorted(Counter(y_resampled).items()))"
   ]
  },
  {
   "cell_type": "code",
   "execution_count": 102,
   "metadata": {},
   "outputs": [
    {
     "data": {
      "text/plain": [
       "(5940, 204)"
      ]
     },
     "execution_count": 102,
     "metadata": {},
     "output_type": "execute_result"
    }
   ],
   "source": [
    "X_resampled.shape"
   ]
  },
  {
   "cell_type": "code",
   "execution_count": 103,
   "metadata": {},
   "outputs": [
    {
     "data": {
      "text/plain": [
       "RandomForestClassifier(bootstrap=True, class_weight=None, criterion='gini',\n",
       "            max_depth=40, max_features='auto', max_leaf_nodes=None,\n",
       "            min_impurity_decrease=0.0, min_impurity_split=None,\n",
       "            min_samples_leaf=1, min_samples_split=2,\n",
       "            min_weight_fraction_leaf=0.0, n_estimators=100, n_jobs=1,\n",
       "            oob_score=False, random_state=42, verbose=0, warm_start=False)"
      ]
     },
     "execution_count": 103,
     "metadata": {},
     "output_type": "execute_result"
    }
   ],
   "source": [
    "rf2 = RandomForestClassifier(n_estimators = 100, max_depth=40,random_state = 42)\n",
    "# Train the model on training data\n",
    "rf2.fit(X_resampled, y_resampled)"
   ]
  },
  {
   "cell_type": "code",
   "execution_count": 104,
   "metadata": {},
   "outputs": [
    {
     "name": "stdout",
     "output_type": "stream",
     "text": [
      "0.401877649909146\n"
     ]
    }
   ],
   "source": [
    "#pred_probability2 = rf2.predict_proba(test_features)\n",
    "predictions2 = rf2.predict(test_features)\n",
    "print(rf2.score(test_features, test_labels))\n",
    "#print(precision_score(test_labels, predictions2, average=None))"
   ]
  },
  {
   "cell_type": "code",
   "execution_count": 105,
   "metadata": {},
   "outputs": [
    {
     "data": {
      "text/plain": [
       "Text(0.5,0,'V grade')"
      ]
     },
     "execution_count": 105,
     "metadata": {},
     "output_type": "execute_result"
    },
    {
     "data": {
      "image/png": "[encoded data removed]",
      "text/plain": [
       "<Figure size 432x288 with 1 Axes>"
      ]
     },
     "metadata": {
      "needs_background": "light"
     },
     "output_type": "display_data"
    }
   ],
   "source": [
    "plt.hist(test_labels, bins= range(min(v_labels),max(v_labels)+2), density=True, histtype='step',label='Real')\n",
    "plt.hist(predictions2, bins= range(min(v_labels),max(v_labels)+2), density=True, histtype='step',label='Predicted')\n",
    "plt.title('Test label distribution')\n",
    "plt.legend(loc='upper right')\n",
    "plt.xlabel('V grade')"
   ]
  },
  {
   "cell_type": "code",
   "execution_count": 106,
   "metadata": {},
   "outputs": [],
   "source": [
    "from xgboost import XGBClassifier"
   ]
  },
  {
   "cell_type": "code",
   "execution_count": 107,
   "metadata": {},
   "outputs": [
    {
     "data": {
      "text/html": [
       "<div>\n",
       "<style scoped>\n",
       "    .dataframe tbody tr th:only-of-type {\n",
       "        vertical-align: middle;\n",
       "    }\n",
       "\n",
       "    .dataframe tbody tr th {\n",
       "        vertical-align: top;\n",
       "    }\n",
       "\n",
       "    .dataframe thead th {\n",
       "        text-align: right;\n",
       "    }\n",
       "</style>\n",
       "<table border=\"1\" class=\"dataframe\">\n",
       "  <thead>\n",
       "    <tr style=\"text-align: right;\">\n",
       "      <th></th>\n",
       "      <th>A1</th>\n",
       "      <th>A2</th>\n",
       "      <th>A3</th>\n",
       "      <th>A4</th>\n",
       "      <th>A5</th>\n",
       "      <th>A6</th>\n",
       "      <th>A7</th>\n",
       "      <th>A8</th>\n",
       "      <th>A9</th>\n",
       "      <th>A10</th>\n",
       "      <th>...</th>\n",
       "      <th>K15</th>\n",
       "      <th>K16</th>\n",
       "      <th>K17</th>\n",
       "      <th>K18</th>\n",
       "      <th>NHolds</th>\n",
       "      <th>plength</th>\n",
       "      <th>std_plength</th>\n",
       "      <th>l</th>\n",
       "      <th>r</th>\n",
       "      <th>width</th>\n",
       "    </tr>\n",
       "  </thead>\n",
       "  <tbody>\n",
       "    <tr>\n",
       "      <th>0</th>\n",
       "      <td>0.0</td>\n",
       "      <td>0.0</td>\n",
       "      <td>0.0</td>\n",
       "      <td>0.0</td>\n",
       "      <td>1.0</td>\n",
       "      <td>0.0</td>\n",
       "      <td>0.0</td>\n",
       "      <td>0.0</td>\n",
       "      <td>0.0</td>\n",
       "      <td>0.0</td>\n",
       "      <td>...</td>\n",
       "      <td>0.0</td>\n",
       "      <td>0.0</td>\n",
       "      <td>0.0</td>\n",
       "      <td>0.0</td>\n",
       "      <td>10.0</td>\n",
       "      <td>18.775499</td>\n",
       "      <td>0.824248</td>\n",
       "      <td>1.0</td>\n",
       "      <td>5.0</td>\n",
       "      <td>4.0</td>\n",
       "    </tr>\n",
       "    <tr>\n",
       "      <th>1</th>\n",
       "      <td>0.0</td>\n",
       "      <td>0.0</td>\n",
       "      <td>0.0</td>\n",
       "      <td>0.0</td>\n",
       "      <td>1.0</td>\n",
       "      <td>0.0</td>\n",
       "      <td>0.0</td>\n",
       "      <td>0.0</td>\n",
       "      <td>0.0</td>\n",
       "      <td>0.0</td>\n",
       "      <td>...</td>\n",
       "      <td>0.0</td>\n",
       "      <td>0.0</td>\n",
       "      <td>0.0</td>\n",
       "      <td>0.0</td>\n",
       "      <td>7.0</td>\n",
       "      <td>25.248200</td>\n",
       "      <td>0.742386</td>\n",
       "      <td>1.0</td>\n",
       "      <td>9.0</td>\n",
       "      <td>8.0</td>\n",
       "    </tr>\n",
       "    <tr>\n",
       "      <th>2</th>\n",
       "      <td>0.0</td>\n",
       "      <td>0.0</td>\n",
       "      <td>0.0</td>\n",
       "      <td>0.0</td>\n",
       "      <td>0.0</td>\n",
       "      <td>0.0</td>\n",
       "      <td>0.0</td>\n",
       "      <td>0.0</td>\n",
       "      <td>0.0</td>\n",
       "      <td>0.0</td>\n",
       "      <td>...</td>\n",
       "      <td>0.0</td>\n",
       "      <td>0.0</td>\n",
       "      <td>0.0</td>\n",
       "      <td>0.0</td>\n",
       "      <td>8.0</td>\n",
       "      <td>17.314806</td>\n",
       "      <td>1.386417</td>\n",
       "      <td>5.0</td>\n",
       "      <td>9.0</td>\n",
       "      <td>4.0</td>\n",
       "    </tr>\n",
       "    <tr>\n",
       "      <th>3</th>\n",
       "      <td>0.0</td>\n",
       "      <td>0.0</td>\n",
       "      <td>0.0</td>\n",
       "      <td>0.0</td>\n",
       "      <td>0.0</td>\n",
       "      <td>0.0</td>\n",
       "      <td>0.0</td>\n",
       "      <td>0.0</td>\n",
       "      <td>0.0</td>\n",
       "      <td>0.0</td>\n",
       "      <td>...</td>\n",
       "      <td>0.0</td>\n",
       "      <td>0.0</td>\n",
       "      <td>0.0</td>\n",
       "      <td>0.0</td>\n",
       "      <td>6.0</td>\n",
       "      <td>16.293865</td>\n",
       "      <td>1.186117</td>\n",
       "      <td>2.0</td>\n",
       "      <td>7.0</td>\n",
       "      <td>5.0</td>\n",
       "    </tr>\n",
       "    <tr>\n",
       "      <th>4</th>\n",
       "      <td>0.0</td>\n",
       "      <td>0.0</td>\n",
       "      <td>0.0</td>\n",
       "      <td>0.0</td>\n",
       "      <td>0.0</td>\n",
       "      <td>0.0</td>\n",
       "      <td>0.0</td>\n",
       "      <td>0.0</td>\n",
       "      <td>0.0</td>\n",
       "      <td>0.0</td>\n",
       "      <td>...</td>\n",
       "      <td>0.0</td>\n",
       "      <td>0.0</td>\n",
       "      <td>0.0</td>\n",
       "      <td>0.0</td>\n",
       "      <td>8.0</td>\n",
       "      <td>21.363887</td>\n",
       "      <td>1.410125</td>\n",
       "      <td>4.0</td>\n",
       "      <td>7.0</td>\n",
       "      <td>3.0</td>\n",
       "    </tr>\n",
       "  </tbody>\n",
       "</table>\n",
       "<p>5 rows × 204 columns</p>\n",
       "</div>"
      ],
      "text/plain": [
       "    A1   A2   A3   A4   A5   A6   A7   A8   A9  A10  ...    K15  K16  K17  \\\n",
       "0  0.0  0.0  0.0  0.0  1.0  0.0  0.0  0.0  0.0  0.0  ...    0.0  0.0  0.0   \n",
       "1  0.0  0.0  0.0  0.0  1.0  0.0  0.0  0.0  0.0  0.0  ...    0.0  0.0  0.0   \n",
       "2  0.0  0.0  0.0  0.0  0.0  0.0  0.0  0.0  0.0  0.0  ...    0.0  0.0  0.0   \n",
       "3  0.0  0.0  0.0  0.0  0.0  0.0  0.0  0.0  0.0  0.0  ...    0.0  0.0  0.0   \n",
       "4  0.0  0.0  0.0  0.0  0.0  0.0  0.0  0.0  0.0  0.0  ...    0.0  0.0  0.0   \n",
       "\n",
       "   K18  NHolds    plength  std_plength    l    r  width  \n",
       "0  0.0    10.0  18.775499     0.824248  1.0  5.0    4.0  \n",
       "1  0.0     7.0  25.248200     0.742386  1.0  9.0    8.0  \n",
       "2  0.0     8.0  17.314806     1.386417  5.0  9.0    4.0  \n",
       "3  0.0     6.0  16.293865     1.186117  2.0  7.0    5.0  \n",
       "4  0.0     8.0  21.363887     1.410125  4.0  7.0    3.0  \n",
       "\n",
       "[5 rows x 204 columns]"
      ]
     },
     "execution_count": 107,
     "metadata": {},
     "output_type": "execute_result"
    }
   ],
   "source": [
    "X_resampled = pd.DataFrame(X_resampled,columns = features_name)\n",
    "X_resampled.head(5)"
   ]
  },
  {
   "cell_type": "code",
   "execution_count": 108,
   "metadata": {},
   "outputs": [],
   "source": [
    "features_name = train_features.columns.values.tolist()"
   ]
  },
  {
   "cell_type": "code",
   "execution_count": 109,
   "metadata": {},
   "outputs": [
    {
     "data": {
      "text/plain": [
       "XGBClassifier(base_score=0.5, booster='gbtree', colsample_bylevel=1,\n",
       "       colsample_bytree=1, gamma=0, learning_rate=0.1, max_delta_step=0,\n",
       "       max_depth=3, min_child_weight=1, min_samples_leaf=20, missing=None,\n",
       "       n_estimators=500, n_jobs=1, nthread=None,\n",
       "       objective='multi:softprob', random_state=42, reg_alpha=0,\n",
       "       reg_lambda=1, scale_pos_weight=1, seed=None, silent=True,\n",
       "       subsample=1)"
      ]
     },
     "execution_count": 109,
     "metadata": {},
     "output_type": "execute_result"
    }
   ],
   "source": [
    "xgb = XGBClassifier(n_estimators = 500, max_depth=3, random_state = 42, min_samples_leaf=20)\n",
    "# Train the model on training data\n",
    "xgb.fit(X_resampled, y_resampled)"
   ]
  },
  {
   "cell_type": "code",
   "execution_count": 110,
   "metadata": {},
   "outputs": [
    {
     "name": "stderr",
     "output_type": "stream",
     "text": [
      "/home/ijee/anaconda3/envs/insight/lib/python3.6/site-packages/sklearn/preprocessing/label.py:151: DeprecationWarning: The truth value of an empty array is ambiguous. Returning False, but in future this will result in an error. Use `array.size > 0` to check that an array is not empty.\n",
      "  if diff:\n"
     ]
    },
    {
     "name": "stdout",
     "output_type": "stream",
     "text": [
      "0.40218049666868566\n"
     ]
    },
    {
     "name": "stderr",
     "output_type": "stream",
     "text": [
      "/home/ijee/anaconda3/envs/insight/lib/python3.6/site-packages/sklearn/preprocessing/label.py:151: DeprecationWarning: The truth value of an empty array is ambiguous. Returning False, but in future this will result in an error. Use `array.size > 0` to check that an array is not empty.\n",
      "  if diff:\n"
     ]
    }
   ],
   "source": [
    "#xgbpred_probability = xgb.predict_proba(test_features)\n",
    "xgbpredictions = xgb.predict(test_features)\n",
    "print(xgb.score(test_features, test_labels))\n",
    "#print(precision_score(test_labels, xgbpredictions, average=None))"
   ]
  },
  {
   "cell_type": "code",
   "execution_count": 111,
   "metadata": {},
   "outputs": [
    {
     "data": {
      "text/plain": [
       "Text(0.5,1,'Real Grade : 8')"
      ]
     },
     "execution_count": 111,
     "metadata": {},
     "output_type": "execute_result"
    },
    {
     "data": {
      "image/png": "[encoded data removed]",
      "text/plain": [
       "<Figure size 432x288 with 1 Axes>"
      ]
     },
     "metadata": {
      "needs_background": "light"
     },
     "output_type": "display_data"
    }
   ],
   "source": [
    "#import matplotlib.pyplot as plt\n",
    "prob_num = 723\n",
    "real_grade = np.array(test_labels)\n",
    "plt.plot(range(min(v_labels),max(v_labels)+1),pred_probability[prob_num])\n",
    "plt.xlabel('Predicted Grade')\n",
    "plt.ylabel('Probability')\n",
    "plt.title('Real Grade : %d'%(real_grade[prob_num]))\n",
    "# plot probability distribution of each predictions\n",
    "# 45 is an example of good peak but is off by the true label :P\n",
    "# 90, 579 is a good classification! :D\n",
    "# 710 has three peaks :P\n",
    "# 951 matches\n",
    "# ways to quantify this? difference between two peaks should be more than 0.3?\n",
    "# what about more wide distribution?"
   ]
  },
  {
   "cell_type": "code",
   "execution_count": 112,
   "metadata": {},
   "outputs": [
    {
     "name": "stdout",
     "output_type": "stream",
     "text": [
      "[ 0 -1 -2 ...  1  1  3]\n",
      "0.401877649909146\n"
     ]
    },
    {
     "data": {
      "image/png": "[encoded data removed]",
      "text/plain": [
       "<Figure size 432x288 with 1 Axes>"
      ]
     },
     "metadata": {
      "needs_background": "light"
     },
     "output_type": "display_data"
    }
   ],
   "source": [
    "pred2 = np.array(predictions2)\n",
    "tst2 = pred2-tlabel\n",
    "print(tst2)\n",
    "binwidth=1\n",
    "plt.hist(tst2,bins=range(min(tst),max(tst),binwidth),density=True)\n",
    "plt.xlabel('prediction-label')\n",
    "plt.ylabel('count')\n",
    "print((len(tst2)-np.count_nonzero(tst2))/len(tst2))\n",
    "# 38.5% accuracy (exact classification)"
   ]
  },
  {
   "cell_type": "code",
   "execution_count": 118,
   "metadata": {},
   "outputs": [],
   "source": [
    "# implement a function that take input data as 2d coordinates (list), process it by doing mlb transformation \n",
    "# + count, left, right, to make it the same format as train / test data. \n",
    "# Run it through the RF model, return the expected grade, probability of difficulty\n",
    "def input_to_output(lst):\n",
    "    path = minpath_length(lst)\n",
    "    df_path = pd.DataFrame([path], columns=list('ab'))\n",
    "    h_enc = mlb.transform([lst])\n",
    "    h_enc = pd.DataFrame(h_enc,columns=mlb.classes_)\n",
    "    tmp = xlims(lst)\n",
    "    tmp = {'lr':[tmp]}\n",
    "    tmp2 = pd.DataFrame.from_dict(tmp)\n",
    "    tmp2[['l','r']] = pd.DataFrame(tmp2.lr.values.tolist(), index= tmp2.index)\n",
    "    tmp2 = tmp2.drop(['lr'],axis=1)\n",
    "    h_enc['NHolds'] = pd.Series(len(lst))\n",
    "    h_enc = h_enc.join(tmp2)\n",
    "    h_enc['width'] = h_enc['r']-h_enc['l']\n",
    "    h_enc = h_enc.join(df_path)\n",
    "    prob = rf2.predict_proba(h_enc)\n",
    "    plt.plot(range(min(v_labels),max(v_labels)+1),prob[0])\n",
    "    return [rf2.predict(h_enc),rf2.predict_proba(h_enc)]"
   ]
  },
  {
   "cell_type": "code",
   "execution_count": 119,
   "metadata": {},
   "outputs": [],
   "source": [
    "# save the model to disk\n",
    "filename = 'RF_imbmodel.sav'\n",
    "pickle.dump(rf2, open(filename, 'wb'))"
   ]
  },
  {
   "cell_type": "code",
   "execution_count": 120,
   "metadata": {},
   "outputs": [
    {
     "name": "stdout",
     "output_type": "stream",
     "text": [
      "[[ 1  1]\n",
      " [ 2  5]\n",
      " [ 3  9]\n",
      " [ 4 13]\n",
      " [ 5 17]\n",
      " [ 6 18]]\n"
     ]
    },
    {
     "data": {
      "text/plain": [
       "[array([8]),\n",
       " array([[0.05506573, 0.08431318, 0.10538744, 0.38661303, 0.36862062]])]"
      ]
     },
     "execution_count": 120,
     "metadata": {},
     "output_type": "execute_result"
    },
    {
     "data": {
      "image/png": "[encoded data removed]",
      "text/plain": [
       "<Figure size 432x288 with 1 Axes>"
      ]
     },
     "metadata": {
      "needs_background": "light"
     },
     "output_type": "display_data"
    }
   ],
   "source": [
    "input_to_output(['A1','B5','C9','D13','E17','F18'])"
   ]
  },
  {
   "cell_type": "code",
   "execution_count": 451,
   "metadata": {},
   "outputs": [],
   "source": [
    "def sort_diff(lst):\n",
    "    lst = coord(lst)\n",
    "    sort_lst = np.array(sorted(lst, key=lambda x:x[1]))\n",
    "    sort_diff = np.diff(sort_lst,axis=0)\n",
    "    return sort_diff\n",
    "def find_user(lst):\n",
    "    leng = len(lst)\n",
    "    inp = sort_diff(lst)\n",
    "    print(inp)\n",
    "    setter = df_names_holds['setter'].loc[df_names_holds['nholds']==leng].reset_index(drop=True)\n",
    "    nholds = df_names_holds['nholds'].loc[df_names_holds['nholds']==leng].reset_index(drop=True)\n",
    "    holds_ = df_names_holds['holds'].loc[df_names_holds['nholds']==leng].reset_index(drop=True)\n",
    "    comp = [sort_diff(holds_[i]) for i in range(len(holds_))]\n",
    "    print(comp[1])\n",
    "    #from sklearn.metrics.pairwise import cosine_similarity\n",
    "    from scipy.spatial.distance import cdist\n",
    "    sim = np.zeros((len(comp)))\n",
    "    for i in range(leng-1):\n",
    "        for j in range(len(comp)):\n",
    "            sim[j] += 1.-cdist(np.reshape(inp[i],(1,2)),np.reshape(comp[j][i],(1,2)),'cosine')\n",
    "    print(sim)\n",
    "    index = np.nanargmax(sim)\n",
    "    print(index)\n",
    "    print(sim[index])\n",
    "    return [index,setter[index],holds_[index]]"
   ]
  },
  {
   "cell_type": "code",
   "execution_count": 452,
   "metadata": {},
   "outputs": [
    {
     "name": "stdout",
     "output_type": "stream",
     "text": [
      "[[ 1  1]\n",
      " [ 4  2]\n",
      " [-3  4]\n",
      " [ 1  4]\n",
      " [ 1  1]]\n",
      "[[ 0  6]\n",
      " [-1  2]\n",
      " [ 5  1]\n",
      " [-1  3]\n",
      " [ 1  4]]\n",
      "[3.10440906 1.9768057  0.1178115  ... 2.96841049 2.70102522 1.96591436]\n",
      "1193\n",
      "4.80068690899024\n",
      "1193 Emmanuel Sanchez Zapata ['B4', 'E6', 'J8', 'G11', 'F14', 'I18']\n"
     ]
    }
   ],
   "source": [
    "[sim_idx, sim_user, holds] = find_user(['B6','C7','G9','D13','E17','F18'])\n",
    "print(sim_idx,sim_user,holds)"
   ]
  },
  {
   "cell_type": "code",
   "execution_count": null,
   "metadata": {},
   "outputs": [],
   "source": [
    "sns.countplot(x='l', data=df_holds_enc)"
   ]
  },
  {
   "cell_type": "code",
   "execution_count": 122,
   "metadata": {},
   "outputs": [
    {
     "data": {
      "text/plain": [
       "<matplotlib.axes._subplots.AxesSubplot at 0x7f9e8eeedef0>"
      ]
     },
     "execution_count": 122,
     "metadata": {},
     "output_type": "execute_result"
    },
    {
     "data": {
      "image/png": "[encoded data removed]",
      "text/plain": [
       "<Figure size 432x288 with 1 Axes>"
      ]
     },
     "metadata": {
      "needs_background": "light"
     },
     "output_type": "display_data"
    }
   ],
   "source": [
    "sns.countplot(x='r', data=df_holds_enc)"
   ]
  },
  {
   "cell_type": "code",
   "execution_count": 123,
   "metadata": {},
   "outputs": [
    {
     "data": {
      "text/plain": [
       "<matplotlib.axes._subplots.AxesSubplot at 0x7f9e8ee07320>"
      ]
     },
     "execution_count": 123,
     "metadata": {},
     "output_type": "execute_result"
    },
    {
     "data": {
      "image/png": "[encoded data removed]",
      "text/plain": [
       "<Figure size 432x288 with 1 Axes>"
      ]
     },
     "metadata": {
      "needs_background": "light"
     },
     "output_type": "display_data"
    }
   ],
   "source": [
    "sns.countplot(x='width', data=df_holds_enc)"
   ]
  },
  {
   "cell_type": "markdown",
   "metadata": {},
   "source": [
    "# function creating a clickable grid (11 x 18) and return the coordinate clicked\n",
    "import tkinter as tk\n",
    "\n",
    "def click(row, col):\n",
    "    label.configure(text=\"you clicked %s%s\" % ( chr(col+65),row+1))\n",
    "\n",
    "root = tk.Tk()\n",
    "for col in range(11):\n",
    "    for row in range(18):\n",
    "        button = tk.Button(root, text=\"%s%s\" % (chr(col+65), row+1), \n",
    "                           command=lambda row=19-row, col=col: click(19-row, col))\n",
    "        button.grid(row=19-row, column=col, sticky=\"nsew\")\n",
    "label = tk.Label(root, text=\"\")\n",
    "label.grid(row=20, column=0, columnspan=11, sticky=\"new\")\n",
    "\n",
    "root.grid_rowconfigure(18, weight=1)\n",
    "root.grid_columnconfigure(11, weight=1)\n",
    "\n",
    "root.mainloop()"
   ]
  },
  {
   "cell_type": "markdown",
   "metadata": {},
   "source": [
    ".chbox1, .chbox2, .chbox3, chbox4 {\n",
    "    position: absolute;\n",
    "}\n",
    "\n",
    ".chbox1 {\n",
    "    top: 50px;\n",
    "    left: 50px;\n",
    "}\n",
    "\n",
    ".chbox2 {\n",
    "    top: 50px;\n",
    "    left: 250px;\n",
    "}\n",
    "\n",
    ".chbox3 {\n",
    "    top: 150px;\n",
    "    left: 150px;\n",
    "}\n"
   ]
  },
  {
   "cell_type": "code",
   "execution_count": null,
   "metadata": {},
   "outputs": [],
   "source": [
    "for i in range(11):\n",
    "    # 13\n",
    "    x = chr(i+65)\n",
    "    for j in range(18):\n",
    "        # 20\n",
    "        print(\".chbox%s%d {\\n   top: %dpx;\\n   left: %dpx;\\n}\"%(x,j,(18-j)*31+11,30*(i+2)-4))"
   ]
  },
  {
   "cell_type": "code",
   "execution_count": null,
   "metadata": {},
   "outputs": [],
   "source": [
    "for i in range(11):\n",
    "    # 13\n",
    "    x = chr(i+65)\n",
    "    for j in range(18):\n",
    "        # 20\n",
    "        print(\".chbox%s%d, \"%(x,j))\n",
    "        "
   ]
  },
  {
   "cell_type": "code",
   "execution_count": null,
   "metadata": {},
   "outputs": [],
   "source": [
    "for i in range(11):\n",
    "    # 13\n",
    "    x = chr(i+65)\n",
    "    for j in range(18):\n",
    "        # 20\n",
    "        #print(\".chbox%s%d, \"%(x,j))\n",
    "        print(\"<input type=\\\"checkbox\\\", name = \\\"check\\\", class = \\\"chbox%s%d\\\" value = %s%d>\"%(x,j,x,j+1))"
   ]
  },
  {
   "cell_type": "code",
   "execution_count": null,
   "metadata": {},
   "outputs": [],
   "source": []
  }
 ],
 "metadata": {
  "kernelspec": {
   "display_name": "Python 3",
   "language": "python",
   "name": "python3"
  },
  "language_info": {
   "codemirror_mode": {
    "name": "ipython",
    "version": 3
   },
   "file_extension": ".py",
   "mimetype": "text/x-python",
   "name": "python",
   "nbconvert_exporter": "python",
   "pygments_lexer": "ipython3",
   "version": "3.6.6"
  }
 },
 "nbformat": 4,
 "nbformat_minor": 2
}
